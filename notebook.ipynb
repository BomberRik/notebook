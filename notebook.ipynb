{
 "cells": [
  {
   "cell_type": "markdown",
   "id": "c87f240b",
   "metadata": {},
   "source": [
    "#  Data Analysis from a Netflix Dataset #"
   ]
  },
  {
   "cell_type": "markdown",
   "id": "6ea3efff-76e4-4157-9479-b3a614132eff",
   "metadata": {},
   "source": [
    "## Che cosa verrà trattato in questo notebook?\n",
    "### In questo notebook, analizzeremo e faremo delle predizioni sui dati relativi ai film e alle serie TV disponibili su Netflix.\n",
    "### Netflix, con oltre 8000 film e serie TV sulla sua piattaforma e più di 200 milioni di abbonati in tutto il mondo a metà del 2021,\n",
    "### rappresenta una fonte ricchissima di informazioni per comprendere le tendenze del mercato dell'intrattenimento."
   ]
  },
  {
   "cell_type": "markdown",
   "id": "48c88b68-2776-4c6e-9296-9608ada427c8",
   "metadata": {},
   "source": [
    "# Il dataset tabellare che utilizzeremo contiene elenchi dettagliati di tutti i film e le serie TV disponibili su Netflix. Le informazioni includono:\n",
    "\n",
    "### Show_id - id of the movie or tv show\n",
    "### Type - product type, movie or tv show\n",
    "### Title - name of the movie or tv show\n",
    "### Director - movie's or tv show's director\n",
    "### Сast - main actors of the project\n",
    "### Country - country of the production\n",
    "### Date_added - release date at Netflix\n",
    "### Release_year - year of the release\n",
    "### Rating - age rating (e.g. PG-13, TV-MA)\n",
    "### Duration - duration of the project in mins for Movies and seasons for TV Shows\n",
    "### Listed_in - genre\n",
    "### Description - short description"
   ]
  },
  {
   "cell_type": "markdown",
   "id": "fcce471d-3fed-4d7d-ac35-8fc2daf1d54d",
   "metadata": {},
   "source": [
    "### Obiettivi del Notebook\n",
    "\n",
    "1. **Analisi dei Dati**: Esamineremo la distribuzione e le caratteristiche dei dati per ottenere una comprensione migliore del dataset. Visualizzeremo i dati attraverso vari grafici per identificare tendenze e pattern significativi.\n",
    "\n",
    "3. **Pulizia e Preprocessing dei Dati**: Effettueremo le necessarie operazioni di pulizia dei dati per garantire che siano pronti per le analisi.\n",
    "\n",
    "4. **Analisi Dettagliata**: Approfondiremo alcune domande specifiche, come la distribuzione dei generi nel tempo, le valutazioni medie per anno, la durata media dei film per genere, e altro ancora.\n",
    "\n",
    "5. **Predizioni**: Utilizzeremo tecniche di machine learning per fare predizioni su aspetti specifici, come il successo di un film basato sulle sue caratteristiche, o la probabilità che un film o una serie TV ottenga alte valutazioni."
   ]
  },
  {
   "cell_type": "markdown",
   "id": "1e992ed8-dad9-484c-904d-a9eac6f44c82",
   "metadata": {},
   "source": [
    "### Cosa Aspettarsi\n",
    "\n",
    "Alla fine di questo notebook, avremo una chiara visione delle caratteristiche dei film e delle serie TV su Netflix, le tendenze principali del contenuto nel corso degli anni, e la cappossibilità di fare predizioni basate sui dati disponibili. I grafici e le visualizzazioni ci aiuteranno a comunicare i risultati in modo intuitivo e comprensibile.\n",
    "\n",
    "**Iniziamo quindi la nostra analisi esplorativa dei dati per scoprire cosa possiamo imparare dai film e dalle serie TV disponibili su Netflix!**"
   ]
  },
  {
   "cell_type": "markdown",
   "id": "5c534dfc-09f4-45dc-bfe1-50bf241edd20",
   "metadata": {},
   "source": [
    "# Impostare Il Documento #"
   ]
  },
  {
   "cell_type": "markdown",
   "id": "763f1af4-fada-4fff-8586-1681a60fcfff",
   "metadata": {},
   "source": [
    "## Importazione delle Librerie e Impostazione dello Stile"
   ]
  },
  {
   "cell_type": "code",
   "execution_count": 15,
   "id": "eba39822-13f4-4fac-adac-b62c6e73cec5",
   "metadata": {},
   "outputs": [],
   "source": [
    "# Pandas è una libreria per la manipolazione e l'analisi dei dati strutturati\n",
    "import pandas as pd\n",
    "\n",
    "# NumPy è una libreria fondamentale per il calcolo scientifico in Python\n",
    "import numpy as np\n",
    "\n",
    "# Matplotlib è una libreria per la creazione di visualizzazioni statiche\n",
    "import matplotlib.pyplot as plt\n",
    "\n",
    "# Plotly Express è una libreria per creare grafici interattivi in modo semplice e rapido.\n",
    "import plotly.express as px\n",
    "\n",
    "# Seaborn è una libreria di visualizzazione dei dati basata su Matplotlib, fornisce una interfaccia per disegnare grafici attraenti e informativi\n",
    "import seaborn as sns\n",
    "\n",
    "# Impostazione dello stile di Seaborn per i grafici (da quando l'ho scoperto lo uso)\n",
    "sns.set(style=\"darkgrid\")"
   ]
  },
  {
   "cell_type": "markdown",
   "id": "fc6dfbfc-f15c-405b-ae3a-26618ac9dd55",
   "metadata": {},
   "source": [
    "## Importazione e Lettura del Dataset"
   ]
  },
  {
   "cell_type": "code",
   "execution_count": 33,
   "id": "12c69a60-9c8b-400b-b5f9-d1dbcf6d8c49",
   "metadata": {},
   "outputs": [
    {
     "data": {
      "text/html": [
       "<div>\n",
       "<style scoped>\n",
       "    .dataframe tbody tr th:only-of-type {\n",
       "        vertical-align: middle;\n",
       "    }\n",
       "\n",
       "    .dataframe tbody tr th {\n",
       "        vertical-align: top;\n",
       "    }\n",
       "\n",
       "    .dataframe thead th {\n",
       "        text-align: right;\n",
       "    }\n",
       "</style>\n",
       "<table border=\"1\" class=\"dataframe\">\n",
       "  <thead>\n",
       "    <tr style=\"text-align: right;\">\n",
       "      <th></th>\n",
       "      <th>show_id</th>\n",
       "      <th>type</th>\n",
       "      <th>title</th>\n",
       "      <th>director</th>\n",
       "      <th>cast</th>\n",
       "      <th>country</th>\n",
       "      <th>date_added</th>\n",
       "      <th>release_year</th>\n",
       "      <th>rating</th>\n",
       "      <th>duration</th>\n",
       "      <th>listed_in</th>\n",
       "      <th>description</th>\n",
       "    </tr>\n",
       "  </thead>\n",
       "  <tbody>\n",
       "    <tr>\n",
       "      <th>0</th>\n",
       "      <td>s1</td>\n",
       "      <td>Movie</td>\n",
       "      <td>Dick Johnson Is Dead</td>\n",
       "      <td>Kirsten Johnson</td>\n",
       "      <td>NaN</td>\n",
       "      <td>United States</td>\n",
       "      <td>September 25, 2021</td>\n",
       "      <td>2020</td>\n",
       "      <td>PG-13</td>\n",
       "      <td>90 min</td>\n",
       "      <td>Documentaries</td>\n",
       "      <td>As her father nears the end of his life, filmm...</td>\n",
       "    </tr>\n",
       "    <tr>\n",
       "      <th>1</th>\n",
       "      <td>s2</td>\n",
       "      <td>TV Show</td>\n",
       "      <td>Blood &amp; Water</td>\n",
       "      <td>NaN</td>\n",
       "      <td>Ama Qamata, Khosi Ngema, Gail Mabalane, Thaban...</td>\n",
       "      <td>South Africa</td>\n",
       "      <td>September 24, 2021</td>\n",
       "      <td>2021</td>\n",
       "      <td>TV-MA</td>\n",
       "      <td>2 Seasons</td>\n",
       "      <td>International TV Shows, TV Dramas, TV Mysteries</td>\n",
       "      <td>After crossing paths at a party, a Cape Town t...</td>\n",
       "    </tr>\n",
       "    <tr>\n",
       "      <th>2</th>\n",
       "      <td>s3</td>\n",
       "      <td>TV Show</td>\n",
       "      <td>Ganglands</td>\n",
       "      <td>Julien Leclercq</td>\n",
       "      <td>Sami Bouajila, Tracy Gotoas, Samuel Jouy, Nabi...</td>\n",
       "      <td>NaN</td>\n",
       "      <td>September 24, 2021</td>\n",
       "      <td>2021</td>\n",
       "      <td>TV-MA</td>\n",
       "      <td>1 Season</td>\n",
       "      <td>Crime TV Shows, International TV Shows, TV Act...</td>\n",
       "      <td>To protect his family from a powerful drug lor...</td>\n",
       "    </tr>\n",
       "    <tr>\n",
       "      <th>3</th>\n",
       "      <td>s4</td>\n",
       "      <td>TV Show</td>\n",
       "      <td>Jailbirds New Orleans</td>\n",
       "      <td>NaN</td>\n",
       "      <td>NaN</td>\n",
       "      <td>NaN</td>\n",
       "      <td>September 24, 2021</td>\n",
       "      <td>2021</td>\n",
       "      <td>TV-MA</td>\n",
       "      <td>1 Season</td>\n",
       "      <td>Docuseries, Reality TV</td>\n",
       "      <td>Feuds, flirtations and toilet talk go down amo...</td>\n",
       "    </tr>\n",
       "    <tr>\n",
       "      <th>4</th>\n",
       "      <td>s5</td>\n",
       "      <td>TV Show</td>\n",
       "      <td>Kota Factory</td>\n",
       "      <td>NaN</td>\n",
       "      <td>Mayur More, Jitendra Kumar, Ranjan Raj, Alam K...</td>\n",
       "      <td>India</td>\n",
       "      <td>September 24, 2021</td>\n",
       "      <td>2021</td>\n",
       "      <td>TV-MA</td>\n",
       "      <td>2 Seasons</td>\n",
       "      <td>International TV Shows, Romantic TV Shows, TV ...</td>\n",
       "      <td>In a city of coaching centers known to train I...</td>\n",
       "    </tr>\n",
       "  </tbody>\n",
       "</table>\n",
       "</div>"
      ],
      "text/plain": [
       "  show_id     type                  title         director  \\\n",
       "0      s1    Movie   Dick Johnson Is Dead  Kirsten Johnson   \n",
       "1      s2  TV Show          Blood & Water              NaN   \n",
       "2      s3  TV Show              Ganglands  Julien Leclercq   \n",
       "3      s4  TV Show  Jailbirds New Orleans              NaN   \n",
       "4      s5  TV Show           Kota Factory              NaN   \n",
       "\n",
       "                                                cast        country  \\\n",
       "0                                                NaN  United States   \n",
       "1  Ama Qamata, Khosi Ngema, Gail Mabalane, Thaban...   South Africa   \n",
       "2  Sami Bouajila, Tracy Gotoas, Samuel Jouy, Nabi...            NaN   \n",
       "3                                                NaN            NaN   \n",
       "4  Mayur More, Jitendra Kumar, Ranjan Raj, Alam K...          India   \n",
       "\n",
       "           date_added  release_year rating   duration  \\\n",
       "0  September 25, 2021          2020  PG-13     90 min   \n",
       "1  September 24, 2021          2021  TV-MA  2 Seasons   \n",
       "2  September 24, 2021          2021  TV-MA   1 Season   \n",
       "3  September 24, 2021          2021  TV-MA   1 Season   \n",
       "4  September 24, 2021          2021  TV-MA  2 Seasons   \n",
       "\n",
       "                                           listed_in  \\\n",
       "0                                      Documentaries   \n",
       "1    International TV Shows, TV Dramas, TV Mysteries   \n",
       "2  Crime TV Shows, International TV Shows, TV Act...   \n",
       "3                             Docuseries, Reality TV   \n",
       "4  International TV Shows, Romantic TV Shows, TV ...   \n",
       "\n",
       "                                         description  \n",
       "0  As her father nears the end of his life, filmm...  \n",
       "1  After crossing paths at a party, a Cape Town t...  \n",
       "2  To protect his family from a powerful drug lor...  \n",
       "3  Feuds, flirtations and toilet talk go down amo...  \n",
       "4  In a city of coaching centers known to train I...  "
      ]
     },
     "execution_count": 33,
     "metadata": {},
     "output_type": "execute_result"
    }
   ],
   "source": [
    "## Importazione del Dataset\n",
    "# Specificare il percorso del file CSV contenente il dataset\n",
    "file_path = 'netflix_titles.csv'\n",
    "\n",
    "# Lettura del dataset in un DataFrame Pandas\n",
    "df = pd.read_csv(file_path)\n",
    "\n",
    "# Visualizzazione delle prime 5 righe del dataset per verificare l'importazione corretta\n",
    "df.head(5)"
   ]
  },
  {
   "cell_type": "markdown",
   "id": "1173f4e4-7754-4c22-a1f0-080040d1dd93",
   "metadata": {},
   "source": [
    "## Estrazioni Info Sul Dataset"
   ]
  },
  {
   "cell_type": "code",
   "execution_count": 35,
   "id": "6de01215-f8f8-4983-96bc-a8225fbadcb2",
   "metadata": {},
   "outputs": [
    {
     "name": "stdout",
     "output_type": "stream",
     "text": [
      "Il dataset contiene 8807 righe e 12 colonne.\n",
      "<class 'pandas.core.frame.DataFrame'>\n",
      "RangeIndex: 8807 entries, 0 to 8806\n",
      "Data columns (total 12 columns):\n",
      " #   Column        Non-Null Count  Dtype \n",
      "---  ------        --------------  ----- \n",
      " 0   show_id       8807 non-null   object\n",
      " 1   type          8807 non-null   object\n",
      " 2   title         8807 non-null   object\n",
      " 3   director      6173 non-null   object\n",
      " 4   cast          7982 non-null   object\n",
      " 5   country       7976 non-null   object\n",
      " 6   date_added    8797 non-null   object\n",
      " 7   release_year  8807 non-null   int64 \n",
      " 8   rating        8803 non-null   object\n",
      " 9   duration      8804 non-null   object\n",
      " 10  listed_in     8807 non-null   object\n",
      " 11  description   8807 non-null   object\n",
      "dtypes: int64(1), object(11)\n",
      "memory usage: 825.8+ KB\n",
      "Valori mancanti per colonna:\n",
      "show_id            0\n",
      "type               0\n",
      "title              0\n",
      "director        2634\n",
      "cast             825\n",
      "country          831\n",
      "date_added        10\n",
      "release_year       0\n",
      "rating             4\n",
      "duration           3\n",
      "listed_in          0\n",
      "description        0\n",
      "dtype: int64\n",
      "show_id ha 8807 valori unici\n",
      "type ha 2 valori unici\n",
      "title ha 8807 valori unici\n",
      "director ha 4528 valori unici\n",
      "cast ha 7692 valori unici\n",
      "country ha 748 valori unici\n",
      "date_added ha 1767 valori unici\n",
      "rating ha 17 valori unici\n",
      "duration ha 220 valori unici\n",
      "listed_in ha 514 valori unici\n",
      "description ha 8775 valori unici\n"
     ]
    }
   ],
   "source": [
    "# Controlliamo le dimensioni del dataset\n",
    "print(f\"Il dataset contiene {df.shape[0]} righe e {df.shape[1]} colonne.\")\n",
    "\n",
    "# Mostriamo un riepilogo delle informazioni del dataset\n",
    "df.info()\n",
    "\n",
    "# Controlliamo se ci sono valori mancanti nel dataset\n",
    "missing_values = df.isnull().sum()\n",
    "print(\"Valori mancanti per colonna:\")\n",
    "print(missing_values)\n",
    "\n",
    "## Statistiche Descrittive del Dataset\n",
    "# Otteniamo alcune statistiche descrittive delle colonne numeriche del dataset\n",
    "df.describe()\n",
    "\n",
    "# Visualizzazione delle colonne uniche per comprendere la diversità dei dati\n",
    "for column in df.select_dtypes(include=['object']).columns:\n",
    "    print(f\"{column} ha {df[column].nunique()} valori unici\")\n",
    "plt.show()"
   ]
  },
  {
   "cell_type": "code",
   "execution_count": 37,
   "id": "1a94e6a8-6f03-4bff-a680-132bb3f73b6d",
   "metadata": {},
   "outputs": [
    {
     "data": {
      "text/plain": [
       "duration\n",
       "1 Season     1793\n",
       "2 Seasons     425\n",
       "3 Seasons     199\n",
       "90 min        152\n",
       "94 min        146\n",
       "             ... \n",
       "16 min          1\n",
       "186 min         1\n",
       "193 min         1\n",
       "189 min         1\n",
       "191 min         1\n",
       "Name: count, Length: 220, dtype: int64"
      ]
     },
     "execution_count": 37,
     "metadata": {},
     "output_type": "execute_result"
    }
   ],
   "source": [
    "# Contiamo il numero di occorrenze per ogni durata e visualizziamo i risultati.\n",
    "duration = df['duration'].value_counts()\n",
    "duration"
   ]
  },
  {
   "cell_type": "markdown",
   "id": "3be0894d-d167-432d-b56d-d54b46c6f211",
   "metadata": {},
   "source": [
    "# Inizio Analisi Del DataSet"
   ]
  },
  {
   "cell_type": "markdown",
   "id": "6ec90064-c222-422f-88dd-0f8180f10395",
   "metadata": {},
   "source": [
    "***Una volta importate le librerie e stampato alcune info a riguardo del dataset, Possiamo iniziare con L'analisi dei dati del nostro dataset. Per analizzare questo tipo di dati, dobbiamo prima vedere con che dati stiamo lavorando***"
   ]
  },
  {
   "cell_type": "markdown",
   "id": "88d4a8b9-5098-4099-abc0-19d6b4e8985f",
   "metadata": {},
   "source": [
    "## Importazione delle Librerie e Lettura del Dataset"
   ]
  },
  {
   "cell_type": "code",
   "execution_count": 39,
   "id": "bd30fbb4-3de9-4947-9fe1-f966efca180e",
   "metadata": {},
   "outputs": [
    {
     "data": {
      "text/html": [
       "<div>\n",
       "<style scoped>\n",
       "    .dataframe tbody tr th:only-of-type {\n",
       "        vertical-align: middle;\n",
       "    }\n",
       "\n",
       "    .dataframe tbody tr th {\n",
       "        vertical-align: top;\n",
       "    }\n",
       "\n",
       "    .dataframe thead th {\n",
       "        text-align: right;\n",
       "    }\n",
       "</style>\n",
       "<table border=\"1\" class=\"dataframe\">\n",
       "  <thead>\n",
       "    <tr style=\"text-align: right;\">\n",
       "      <th></th>\n",
       "      <th>show_id</th>\n",
       "      <th>type</th>\n",
       "      <th>title</th>\n",
       "      <th>director</th>\n",
       "      <th>cast</th>\n",
       "      <th>country</th>\n",
       "      <th>date_added</th>\n",
       "      <th>release_year</th>\n",
       "      <th>rating</th>\n",
       "      <th>duration</th>\n",
       "      <th>listed_in</th>\n",
       "      <th>description</th>\n",
       "    </tr>\n",
       "  </thead>\n",
       "  <tbody>\n",
       "    <tr>\n",
       "      <th>0</th>\n",
       "      <td>s1</td>\n",
       "      <td>Movie</td>\n",
       "      <td>Dick Johnson Is Dead</td>\n",
       "      <td>Kirsten Johnson</td>\n",
       "      <td>NaN</td>\n",
       "      <td>United States</td>\n",
       "      <td>September 25, 2021</td>\n",
       "      <td>2020</td>\n",
       "      <td>PG-13</td>\n",
       "      <td>90 min</td>\n",
       "      <td>Documentaries</td>\n",
       "      <td>As her father nears the end of his life, filmm...</td>\n",
       "    </tr>\n",
       "    <tr>\n",
       "      <th>1</th>\n",
       "      <td>s2</td>\n",
       "      <td>TV Show</td>\n",
       "      <td>Blood &amp; Water</td>\n",
       "      <td>NaN</td>\n",
       "      <td>Ama Qamata, Khosi Ngema, Gail Mabalane, Thaban...</td>\n",
       "      <td>South Africa</td>\n",
       "      <td>September 24, 2021</td>\n",
       "      <td>2021</td>\n",
       "      <td>TV-MA</td>\n",
       "      <td>2 Seasons</td>\n",
       "      <td>International TV Shows, TV Dramas, TV Mysteries</td>\n",
       "      <td>After crossing paths at a party, a Cape Town t...</td>\n",
       "    </tr>\n",
       "    <tr>\n",
       "      <th>2</th>\n",
       "      <td>s3</td>\n",
       "      <td>TV Show</td>\n",
       "      <td>Ganglands</td>\n",
       "      <td>Julien Leclercq</td>\n",
       "      <td>Sami Bouajila, Tracy Gotoas, Samuel Jouy, Nabi...</td>\n",
       "      <td>NaN</td>\n",
       "      <td>September 24, 2021</td>\n",
       "      <td>2021</td>\n",
       "      <td>TV-MA</td>\n",
       "      <td>1 Season</td>\n",
       "      <td>Crime TV Shows, International TV Shows, TV Act...</td>\n",
       "      <td>To protect his family from a powerful drug lor...</td>\n",
       "    </tr>\n",
       "    <tr>\n",
       "      <th>3</th>\n",
       "      <td>s4</td>\n",
       "      <td>TV Show</td>\n",
       "      <td>Jailbirds New Orleans</td>\n",
       "      <td>NaN</td>\n",
       "      <td>NaN</td>\n",
       "      <td>NaN</td>\n",
       "      <td>September 24, 2021</td>\n",
       "      <td>2021</td>\n",
       "      <td>TV-MA</td>\n",
       "      <td>1 Season</td>\n",
       "      <td>Docuseries, Reality TV</td>\n",
       "      <td>Feuds, flirtations and toilet talk go down amo...</td>\n",
       "    </tr>\n",
       "    <tr>\n",
       "      <th>4</th>\n",
       "      <td>s5</td>\n",
       "      <td>TV Show</td>\n",
       "      <td>Kota Factory</td>\n",
       "      <td>NaN</td>\n",
       "      <td>Mayur More, Jitendra Kumar, Ranjan Raj, Alam K...</td>\n",
       "      <td>India</td>\n",
       "      <td>September 24, 2021</td>\n",
       "      <td>2021</td>\n",
       "      <td>TV-MA</td>\n",
       "      <td>2 Seasons</td>\n",
       "      <td>International TV Shows, Romantic TV Shows, TV ...</td>\n",
       "      <td>In a city of coaching centers known to train I...</td>\n",
       "    </tr>\n",
       "  </tbody>\n",
       "</table>\n",
       "</div>"
      ],
      "text/plain": [
       "  show_id     type                  title         director  \\\n",
       "0      s1    Movie   Dick Johnson Is Dead  Kirsten Johnson   \n",
       "1      s2  TV Show          Blood & Water              NaN   \n",
       "2      s3  TV Show              Ganglands  Julien Leclercq   \n",
       "3      s4  TV Show  Jailbirds New Orleans              NaN   \n",
       "4      s5  TV Show           Kota Factory              NaN   \n",
       "\n",
       "                                                cast        country  \\\n",
       "0                                                NaN  United States   \n",
       "1  Ama Qamata, Khosi Ngema, Gail Mabalane, Thaban...   South Africa   \n",
       "2  Sami Bouajila, Tracy Gotoas, Samuel Jouy, Nabi...            NaN   \n",
       "3                                                NaN            NaN   \n",
       "4  Mayur More, Jitendra Kumar, Ranjan Raj, Alam K...          India   \n",
       "\n",
       "           date_added  release_year rating   duration  \\\n",
       "0  September 25, 2021          2020  PG-13     90 min   \n",
       "1  September 24, 2021          2021  TV-MA  2 Seasons   \n",
       "2  September 24, 2021          2021  TV-MA   1 Season   \n",
       "3  September 24, 2021          2021  TV-MA   1 Season   \n",
       "4  September 24, 2021          2021  TV-MA  2 Seasons   \n",
       "\n",
       "                                           listed_in  \\\n",
       "0                                      Documentaries   \n",
       "1    International TV Shows, TV Dramas, TV Mysteries   \n",
       "2  Crime TV Shows, International TV Shows, TV Act...   \n",
       "3                             Docuseries, Reality TV   \n",
       "4  International TV Shows, Romantic TV Shows, TV ...   \n",
       "\n",
       "                                         description  \n",
       "0  As her father nears the end of his life, filmm...  \n",
       "1  After crossing paths at a party, a Cape Town t...  \n",
       "2  To protect his family from a powerful drug lor...  \n",
       "3  Feuds, flirtations and toilet talk go down amo...  \n",
       "4  In a city of coaching centers known to train I...  "
      ]
     },
     "execution_count": 39,
     "metadata": {},
     "output_type": "execute_result"
    }
   ],
   "source": [
    "# Impostazione dello stile di Seaborn per i grafici\n",
    "sns.set(style=\"darkgrid\")\n",
    "\n",
    "# Lettura del dataset\n",
    "file_path = 'netflix_titles.csv'\n",
    "df = pd.read_csv(file_path)\n",
    "\n",
    "# Visualizzazione delle prime 5 righe del dataset\n",
    "df.head(5)"
   ]
  },
  {
   "cell_type": "markdown",
   "id": "21611768-52ef-44d4-9f32-b0fc6193ed45",
   "metadata": {},
   "source": [
    "## Informazioni di Base sul Dataset"
   ]
  },
  {
   "cell_type": "code",
   "execution_count": 41,
   "id": "dbd6beb2-62e3-41a7-9a08-f71ea5ff410f",
   "metadata": {},
   "outputs": [
    {
     "name": "stdout",
     "output_type": "stream",
     "text": [
      "Il dataset contiene 8807 righe e 12 colonne.\n",
      "<class 'pandas.core.frame.DataFrame'>\n",
      "RangeIndex: 8807 entries, 0 to 8806\n",
      "Data columns (total 12 columns):\n",
      " #   Column        Non-Null Count  Dtype \n",
      "---  ------        --------------  ----- \n",
      " 0   show_id       8807 non-null   object\n",
      " 1   type          8807 non-null   object\n",
      " 2   title         8807 non-null   object\n",
      " 3   director      6173 non-null   object\n",
      " 4   cast          7982 non-null   object\n",
      " 5   country       7976 non-null   object\n",
      " 6   date_added    8797 non-null   object\n",
      " 7   release_year  8807 non-null   int64 \n",
      " 8   rating        8803 non-null   object\n",
      " 9   duration      8804 non-null   object\n",
      " 10  listed_in     8807 non-null   object\n",
      " 11  description   8807 non-null   object\n",
      "dtypes: int64(1), object(11)\n",
      "memory usage: 825.8+ KB\n",
      "Valori mancanti per colonna:\n",
      "show_id            0\n",
      "type               0\n",
      "title              0\n",
      "director        2634\n",
      "cast             825\n",
      "country          831\n",
      "date_added        10\n",
      "release_year       0\n",
      "rating             4\n",
      "duration           3\n",
      "listed_in          0\n",
      "description        0\n",
      "dtype: int64\n",
      "show_id ha 8807 valori unici\n",
      "type ha 2 valori unici\n",
      "title ha 8807 valori unici\n",
      "director ha 4528 valori unici\n",
      "cast ha 7692 valori unici\n",
      "country ha 748 valori unici\n",
      "date_added ha 1767 valori unici\n",
      "rating ha 17 valori unici\n",
      "duration ha 220 valori unici\n",
      "listed_in ha 514 valori unici\n",
      "description ha 8775 valori unici\n"
     ]
    }
   ],
   "source": [
    "# Controlliamo le dimensioni del dataset\n",
    "print(f\"Il dataset contiene {df.shape[0]} righe e {df.shape[1]} colonne.\")\n",
    "\n",
    "# Mostriamo un riepilogo delle informazioni del dataset\n",
    "df.info()\n",
    "\n",
    "# Controlliamo se ci sono valori mancanti nel dataset\n",
    "missing_values = df.isnull().sum()\n",
    "print(\"Valori mancanti per colonna:\")\n",
    "print(missing_values)\n",
    "\n",
    "# Statistiche descrittive delle colonne numeriche del dataset\n",
    "df.describe()\n",
    "\n",
    "# Visualizzazione delle colonne uniche per comprendere la diversità dei dati\n",
    "for column in df.select_dtypes(include=['object']).columns:\n",
    "    print(f\"{column} ha {df[column].nunique()} valori unici\")\n"
   ]
  },
  {
   "cell_type": "markdown",
   "id": "f988f6b9-5b01-454d-9cd3-aa0fb49da535",
   "metadata": {},
   "source": [
    "## Pulizia dei Dati"
   ]
  },
  {
   "cell_type": "code",
   "execution_count": 46,
   "id": "35d8d865",
   "metadata": {
    "scrolled": true
   },
   "outputs": [
    {
     "data": {
      "text/plain": [
       "show_id         0\n",
       "type            0\n",
       "title           0\n",
       "director        0\n",
       "cast            0\n",
       "country         0\n",
       "date_added      0\n",
       "release_year    0\n",
       "rating          0\n",
       "duration        0\n",
       "listed_in       0\n",
       "description     0\n",
       "dtype: int64"
      ]
     },
     "execution_count": 46,
     "metadata": {},
     "output_type": "execute_result"
    }
   ],
   "source": [
    "# Sostituire i valori mancanti con una stringa vuota o un valore predefinito\n",
    "df['director'].fillna('Unknown', inplace=True)\n",
    "df['cast'].fillna('Unknown', inplace=True)\n",
    "df['country'].fillna('Unknown', inplace=True)\n",
    "df['date_added'].fillna('Unknown', inplace=True)\n",
    "df['rating'].fillna('Not Rated', inplace=True)\n",
    "df['duration'].fillna('Unknown', inplace=True)\n",
    "\n",
    "# Verifica della pulizia\n",
    "df.isnull().sum()"
   ]
  },
  {
   "cell_type": "markdown",
   "id": "0563f4a2-9658-4507-afc8-4e5b47889f9b",
   "metadata": {},
   "source": [
    "# Analisi Esplorativa dei Dati (EDA)"
   ]
  },
  {
   "cell_type": "markdown",
   "id": "f17169fe-3d70-4893-9a16-d83ee0091f1b",
   "metadata": {},
   "source": [
    "## Distribuzione dei Tipi di Contenuto"
   ]
  },
  {
   "cell_type": "code",
   "execution_count": 50,
   "id": "c38713e2",
   "metadata": {
    "scrolled": true
   },
   "outputs": [
    {
     "data": {
      "image/png": "[encoded data removed]",
      "text/plain": [
       "<Figure size 800x600 with 1 Axes>"
      ]
     },
     "metadata": {},
     "output_type": "display_data"
    }
   ],
   "source": [
    "# Conteggio del numero di film e serie TV\n",
    "content_type_counts = df['type'].value_counts()\n",
    "\n",
    "# Creazione del grafico a barre per la distribuzione dei tipi di contenuto\n",
    "plt.figure(figsize=(8, 6))\n",
    "sns.barplot(x=content_type_counts.index, y=content_type_counts.values, palette='viridis')\n",
    "plt.title('Distribuzione dei Tipi di Contenuto su Netflix')\n",
    "plt.xlabel('Tipo di Contenuto')\n",
    "plt.ylabel('Numero di Titoli')\n",
    "plt.show()"
   ]
  },
  {
   "cell_type": "markdown",
   "id": "632fb4b9-5bf2-4cdf-825a-4cc2ac74b4b2",
   "metadata": {},
   "source": [
    "## Distribuzione dei Contenuti per Anno di Rilascio"
   ]
  },
  {
   "cell_type": "code",
   "execution_count": 55,
   "id": "94b29f62-3f9f-469f-bd2e-6aa87380078e",
   "metadata": {},
   "outputs": [
    {
     "data": {
      "image/png": "[encoded data removed]",
      "text/plain": [
       "<Figure size 1400x700 with 1 Axes>"
      ]
     },
     "metadata": {},
     "output_type": "display_data"
    }
   ],
   "source": [
    "# Conteggio dei contenuti per anno di rilascio\n",
    "release_year_counts = df['release_year'].value_counts().sort_index()\n",
    "\n",
    "# Creazione del grafico a linee per la distribuzione dei contenuti per anno di rilascio\n",
    "plt.figure(figsize=(14, 7))\n",
    "sns.lineplot(x=release_year_counts.index, y=release_year_counts.values, marker='o')\n",
    "plt.title('Distribuzione dei Contenuti per Anno di Rilascio')\n",
    "plt.xlabel('Anno di Rilascio')\n",
    "plt.ylabel('Numero di Titoli')\n",
    "plt.show()\n"
   ]
  },
  {
   "cell_type": "markdown",
   "id": "fe1fc744-7442-46b8-a839-03dd4bca5780",
   "metadata": {},
   "source": [
    "## Distribuzione dei Generi"
   ]
  },
  {
   "cell_type": "code",
   "execution_count": 58,
   "id": "4a2038f4-8e10-4388-8204-ed923e3430f0",
   "metadata": {},
   "outputs": [
    {
     "data": {
      "image/png": "[encoded data removed]",
      "text/plain": [
       "<Figure size 1200x800 with 1 Axes>"
      ]
     },
     "metadata": {},
     "output_type": "display_data"
    }
   ],
   "source": [
    "# Creazione di una lista di generi separati\n",
    "df['genre_list'] = df['listed_in'].apply(lambda x: x.split(', '))\n",
    "\n",
    "# Esplosione della lista di generi in più righe\n",
    "df_genres = df.explode('genre_list')\n",
    "\n",
    "# Conteggio dei generi\n",
    "genre_counts = df_genres['genre_list'].value_counts().head(10)\n",
    "\n",
    "# Creazione del grafico a barre per i generi più popolari\n",
    "plt.figure(figsize=(12, 8))\n",
    "sns.barplot(y=genre_counts.index, x=genre_counts.values, palette='viridis')\n",
    "plt.title('Top 10 Generi più Popolari su Netflix')\n",
    "plt.xlabel('Numero di Titoli')\n",
    "plt.ylabel('Genere')\n",
    "plt.show()\n"
   ]
  },
  {
   "cell_type": "markdown",
   "id": "d9e40036-4f66-4209-87e6-051ccee4559f",
   "metadata": {},
   "source": [
    "## Tipi di contenuti piu richiesti su Netflix "
   ]
  },
  {
   "cell_type": "code",
   "execution_count": 126,
   "id": "4b3881b8-5d8c-4861-aee8-b61059aa0d15",
   "metadata": {},
   "outputs": [
    {
     "data": {
      "application/vnd.plotly.v1+json": {
       "config": {
        "plotlyServerURL": "https://plot.ly"
       },
       "data": [
        {
         "alignmentgroup": "True",
         "bingroup": "x",
         "histfunc": "sum",
         "hovertemplate": "duration=%{x}<br>sum of y=%{y}<extra></extra>",
         "legendgroup": "",
         "marker": {
          "color": "#cc0000",
          "pattern": {
           "shape": ""
          }
         },
         "name": "",
         "offsetgroup": "",
         "orientation": "v",
         "showlegend": false,
         "type": "histogram",
         "x": [
          "1 Season",
          "2 Seasons",
          "3 Seasons",
          "90 min",
          "94 min",
          "97 min",
          "93 min",
          "91 min",
          "95 min",
          "96 min",
          "92 min",
          "102 min",
          "98 min",
          "99 min",
          "101 min",
          "88 min",
          "103 min",
          "106 min",
          "100 min",
          "89 min",
          "104 min",
          "86 min",
          "105 min",
          "87 min",
          "107 min",
          "110 min",
          "4 Seasons",
          "108 min",
          "116 min",
          "112 min",
          "85 min",
          "113 min",
          "109 min",
          "111 min",
          "84 min",
          "118 min",
          "83 min",
          "5 Seasons",
          "119 min",
          "81 min",
          "115 min",
          "117 min",
          "120 min",
          "114 min",
          "121 min",
          "82 min",
          "124 min",
          "127 min",
          "122 min",
          "78 min",
          "123 min",
          "126 min",
          "80 min",
          "133 min",
          "128 min",
          "130 min",
          "135 min",
          "137 min",
          "132 min",
          "125 min",
          "75 min",
          "79 min",
          "131 min",
          "6 Seasons",
          "72 min",
          "63 min",
          "129 min",
          "76 min",
          "61 min",
          "74 min",
          "73 min",
          "77 min",
          "60 min",
          "71 min",
          "66 min",
          "69 min",
          "70 min",
          "140 min",
          "65 min",
          "58 min",
          "59 min",
          "68 min",
          "54 min",
          "46 min",
          "62 min",
          "53 min",
          "64 min",
          "136 min",
          "7 Seasons",
          "24 min",
          "143 min",
          "134 min",
          "139 min",
          "138 min",
          "67 min",
          "52 min",
          "44 min",
          "141 min",
          "148 min",
          "145 min",
          "150 min",
          "8 Seasons",
          "22 min",
          "55 min",
          "151 min",
          "149 min",
          "162 min",
          "57 min",
          "146 min",
          "23 min",
          "142 min",
          "154 min",
          "40 min",
          "158 min",
          "56 min",
          "147 min",
          "153 min",
          "163 min",
          "25 min",
          "51 min",
          "29 min",
          "47 min",
          "161 min",
          "45 min",
          "155 min",
          "28 min",
          "50 min",
          "156 min",
          "42 min",
          "32 min",
          "144 min",
          "9 Seasons",
          "49 min",
          "166 min",
          "165 min",
          "48 min",
          "168 min",
          "10 Seasons",
          "171 min",
          "173 min",
          "185 min",
          "26 min",
          "33 min",
          "159 min",
          "30 min",
          "160 min",
          "157 min",
          "176 min",
          "152 min",
          "170 min",
          "36 min",
          "177 min",
          "38 min",
          "35 min",
          "181 min",
          "172 min",
          "164 min",
          "14 min",
          "12 min",
          "13 Seasons",
          "34 min",
          "182 min",
          "41 min",
          "13 min",
          "17 min",
          "15 min",
          "27 min",
          "Unknown",
          "37 min",
          "21 min",
          "19 min",
          "12 Seasons",
          "31 min",
          "169 min",
          "39 min",
          "11 min",
          "179 min",
          "187 min",
          "209 min",
          "11 Seasons",
          "174 min",
          "192 min",
          "180 min",
          "190 min",
          "20 min",
          "15 Seasons",
          "195 min",
          "204 min",
          "228 min",
          "18 min",
          "178 min",
          "167 min",
          "214 min",
          "200 min",
          "43 min",
          "8 min",
          "205 min",
          "9 min",
          "224 min",
          "201 min",
          "212 min",
          "203 min",
          "196 min",
          "312 min",
          "194 min",
          "230 min",
          "208 min",
          "17 Seasons",
          "273 min",
          "253 min",
          "16 min",
          "186 min",
          "193 min",
          "5 min",
          "237 min",
          "233 min",
          "189 min",
          "10 min",
          "3 min",
          "229 min",
          "191 min"
         ],
         "xaxis": "x",
         "y": [
          1793,
          425,
          199,
          152,
          146,
          146,
          146,
          144,
          137,
          130,
          129,
          122,
          120,
          118,
          116,
          116,
          114,
          111,
          108,
          106,
          104,
          103,
          101,
          101,
          98,
          97,
          95,
          87,
          80,
          74,
          73,
          69,
          69,
          68,
          67,
          65,
          65,
          65,
          63,
          62,
          61,
          61,
          56,
          56,
          54,
          52,
          52,
          48,
          45,
          45,
          44,
          44,
          43,
          42,
          41,
          40,
          39,
          38,
          37,
          36,
          35,
          35,
          34,
          33,
          33,
          32,
          32,
          31,
          31,
          31,
          30,
          30,
          29,
          28,
          28,
          28,
          28,
          25,
          25,
          25,
          25,
          25,
          24,
          24,
          24,
          24,
          23,
          23,
          23,
          23,
          23,
          22,
          22,
          21,
          21,
          20,
          19,
          19,
          19,
          18,
          17,
          17,
          16,
          16,
          15,
          15,
          14,
          14,
          13,
          13,
          13,
          13,
          13,
          12,
          12,
          12,
          11,
          11,
          11,
          11,
          11,
          11,
          10,
          10,
          10,
          10,
          10,
          10,
          9,
          9,
          9,
          9,
          9,
          8,
          8,
          8,
          7,
          7,
          7,
          6,
          6,
          6,
          6,
          6,
          6,
          6,
          6,
          5,
          5,
          5,
          5,
          5,
          5,
          5,
          4,
          4,
          4,
          3,
          3,
          3,
          3,
          3,
          3,
          3,
          3,
          3,
          3,
          3,
          3,
          3,
          2,
          2,
          2,
          2,
          2,
          2,
          2,
          2,
          2,
          2,
          2,
          2,
          2,
          2,
          2,
          2,
          2,
          2,
          1,
          1,
          1,
          1,
          1,
          1,
          1,
          1,
          1,
          1,
          1,
          1,
          1,
          1,
          1,
          1,
          1,
          1,
          1,
          1,
          1,
          1,
          1,
          1,
          1,
          1,
          1,
          1,
          1,
          1,
          1,
          1,
          1
         ],
         "yaxis": "y"
        }
       ],
       "layout": {
        "bargap": 0.5,
        "barmode": "relative",
        "height": 500,
        "legend": {
         "tracegroupgap": 0
        },
        "template": {
         "data": {
          "bar": [
           {
            "error_x": {
             "color": "#f2f5fa"
            },
            "error_y": {
             "color": "#f2f5fa"
            },
            "marker": {
             "line": {
              "color": "rgb(17,17,17)",
              "width": 0.5
             },
             "pattern": {
              "fillmode": "overlay",
              "size": 10,
              "solidity": 0.2
             }
            },
            "type": "bar"
           }
          ],
          "barpolar": [
           {
            "marker": {
             "line": {
              "color": "rgb(17,17,17)",
              "width": 0.5
             },
             "pattern": {
              "fillmode": "overlay",
              "size": 10,
              "solidity": 0.2
             }
            },
            "type": "barpolar"
           }
          ],
          "carpet": [
           {
            "aaxis": {
             "endlinecolor": "#A2B1C6",
             "gridcolor": "#506784",
             "linecolor": "#506784",
             "minorgridcolor": "#506784",
             "startlinecolor": "#A2B1C6"
            },
            "baxis": {
             "endlinecolor": "#A2B1C6",
             "gridcolor": "#506784",
             "linecolor": "#506784",
             "minorgridcolor": "#506784",
             "startlinecolor": "#A2B1C6"
            },
            "type": "carpet"
           }
          ],
          "choropleth": [
           {
            "colorbar": {
             "outlinewidth": 0,
             "ticks": ""
            },
            "type": "choropleth"
           }
          ],
          "contour": [
           {
            "colorbar": {
             "outlinewidth": 0,
             "ticks": ""
            },
            "colorscale": [
             [
              0,
              "#0d0887"
             ],
             [
              0.1111111111111111,
              "#46039f"
             ],
             [
              0.2222222222222222,
              "#7201a8"
             ],
             [
              0.3333333333333333,
              "#9c179e"
             ],
             [
              0.4444444444444444,
              "#bd3786"
             ],
             [
              0.5555555555555556,
              "#d8576b"
             ],
             [
              0.6666666666666666,
              "#ed7953"
             ],
             [
              0.7777777777777778,
              "#fb9f3a"
             ],
             [
              0.8888888888888888,
              "#fdca26"
             ],
             [
              1,
              "#f0f921"
             ]
            ],
            "type": "contour"
           }
          ],
          "contourcarpet": [
           {
            "colorbar": {
             "outlinewidth": 0,
             "ticks": ""
            },
            "type": "contourcarpet"
           }
          ],
          "heatmap": [
           {
            "colorbar": {
             "outlinewidth": 0,
             "ticks": ""
            },
            "colorscale": [
             [
              0,
              "#0d0887"
             ],
             [
              0.1111111111111111,
              "#46039f"
             ],
             [
              0.2222222222222222,
              "#7201a8"
             ],
             [
              0.3333333333333333,
              "#9c179e"
             ],
             [
              0.4444444444444444,
              "#bd3786"
             ],
             [
              0.5555555555555556,
              "#d8576b"
             ],
             [
              0.6666666666666666,
              "#ed7953"
             ],
             [
              0.7777777777777778,
              "#fb9f3a"
             ],
             [
              0.8888888888888888,
              "#fdca26"
             ],
             [
              1,
              "#f0f921"
             ]
            ],
            "type": "heatmap"
           }
          ],
          "heatmapgl": [
           {
            "colorbar": {
             "outlinewidth": 0,
             "ticks": ""
            },
            "colorscale": [
             [
              0,
              "#0d0887"
             ],
             [
              0.1111111111111111,
              "#46039f"
             ],
             [
              0.2222222222222222,
              "#7201a8"
             ],
             [
              0.3333333333333333,
              "#9c179e"
             ],
             [
              0.4444444444444444,
              "#bd3786"
             ],
             [
              0.5555555555555556,
              "#d8576b"
             ],
             [
              0.6666666666666666,
              "#ed7953"
             ],
             [
              0.7777777777777778,
              "#fb9f3a"
             ],
             [
              0.8888888888888888,
              "#fdca26"
             ],
             [
              1,
              "#f0f921"
             ]
            ],
            "type": "heatmapgl"
           }
          ],
          "histogram": [
           {
            "marker": {
             "pattern": {
              "fillmode": "overlay",
              "size": 10,
              "solidity": 0.2
             }
            },
            "type": "histogram"
           }
          ],
          "histogram2d": [
           {
            "colorbar": {
             "outlinewidth": 0,
             "ticks": ""
            },
            "colorscale": [
             [
              0,
              "#0d0887"
             ],
             [
              0.1111111111111111,
              "#46039f"
             ],
             [
              0.2222222222222222,
              "#7201a8"
             ],
             [
              0.3333333333333333,
              "#9c179e"
             ],
             [
              0.4444444444444444,
              "#bd3786"
             ],
             [
              0.5555555555555556,
              "#d8576b"
             ],
             [
              0.6666666666666666,
              "#ed7953"
             ],
             [
              0.7777777777777778,
              "#fb9f3a"
             ],
             [
              0.8888888888888888,
              "#fdca26"
             ],
             [
              1,
              "#f0f921"
             ]
            ],
            "type": "histogram2d"
           }
          ],
          "histogram2dcontour": [
           {
            "colorbar": {
             "outlinewidth": 0,
             "ticks": ""
            },
            "colorscale": [
             [
              0,
              "#0d0887"
             ],
             [
              0.1111111111111111,
              "#46039f"
             ],
             [
              0.2222222222222222,
              "#7201a8"
             ],
             [
              0.3333333333333333,
              "#9c179e"
             ],
             [
              0.4444444444444444,
              "#bd3786"
             ],
             [
              0.5555555555555556,
              "#d8576b"
             ],
             [
              0.6666666666666666,
              "#ed7953"
             ],
             [
              0.7777777777777778,
              "#fb9f3a"
             ],
             [
              0.8888888888888888,
              "#fdca26"
             ],
             [
              1,
              "#f0f921"
             ]
            ],
            "type": "histogram2dcontour"
           }
          ],
          "mesh3d": [
           {
            "colorbar": {
             "outlinewidth": 0,
             "ticks": ""
            },
            "type": "mesh3d"
           }
          ],
          "parcoords": [
           {
            "line": {
             "colorbar": {
              "outlinewidth": 0,
              "ticks": ""
             }
            },
            "type": "parcoords"
           }
          ],
          "pie": [
           {
            "automargin": true,
            "type": "pie"
           }
          ],
          "scatter": [
           {
            "marker": {
             "line": {
              "color": "#283442"
             }
            },
            "type": "scatter"
           }
          ],
          "scatter3d": [
           {
            "line": {
             "colorbar": {
              "outlinewidth": 0,
              "ticks": ""
             }
            },
            "marker": {
             "colorbar": {
              "outlinewidth": 0,
              "ticks": ""
             }
            },
            "type": "scatter3d"
           }
          ],
          "scattercarpet": [
           {
            "marker": {
             "colorbar": {
              "outlinewidth": 0,
              "ticks": ""
             }
            },
            "type": "scattercarpet"
           }
          ],
          "scattergeo": [
           {
            "marker": {
             "colorbar": {
              "outlinewidth": 0,
              "ticks": ""
             }
            },
            "type": "scattergeo"
           }
          ],
          "scattergl": [
           {
            "marker": {
             "line": {
              "color": "#283442"
             }
            },
            "type": "scattergl"
           }
          ],
          "scattermapbox": [
           {
            "marker": {
             "colorbar": {
              "outlinewidth": 0,
              "ticks": ""
             }
            },
            "type": "scattermapbox"
           }
          ],
          "scatterpolar": [
           {
            "marker": {
             "colorbar": {
              "outlinewidth": 0,
              "ticks": ""
             }
            },
            "type": "scatterpolar"
           }
          ],
          "scatterpolargl": [
           {
            "marker": {
             "colorbar": {
              "outlinewidth": 0,
              "ticks": ""
             }
            },
            "type": "scatterpolargl"
           }
          ],
          "scatterternary": [
           {
            "marker": {
             "colorbar": {
              "outlinewidth": 0,
              "ticks": ""
             }
            },
            "type": "scatterternary"
           }
          ],
          "surface": [
           {
            "colorbar": {
             "outlinewidth": 0,
             "ticks": ""
            },
            "colorscale": [
             [
              0,
              "#0d0887"
             ],
             [
              0.1111111111111111,
              "#46039f"
             ],
             [
              0.2222222222222222,
              "#7201a8"
             ],
             [
              0.3333333333333333,
              "#9c179e"
             ],
             [
              0.4444444444444444,
              "#bd3786"
             ],
             [
              0.5555555555555556,
              "#d8576b"
             ],
             [
              0.6666666666666666,
              "#ed7953"
             ],
             [
              0.7777777777777778,
              "#fb9f3a"
             ],
             [
              0.8888888888888888,
              "#fdca26"
             ],
             [
              1,
              "#f0f921"
             ]
            ],
            "type": "surface"
           }
          ],
          "table": [
           {
            "cells": {
             "fill": {
              "color": "#506784"
             },
             "line": {
              "color": "rgb(17,17,17)"
             }
            },
            "header": {
             "fill": {
              "color": "#2a3f5f"
             },
             "line": {
              "color": "rgb(17,17,17)"
             }
            },
            "type": "table"
           }
          ]
         },
         "layout": {
          "annotationdefaults": {
           "arrowcolor": "#f2f5fa",
           "arrowhead": 0,
           "arrowwidth": 1
          },
          "autotypenumbers": "strict",
          "coloraxis": {
           "colorbar": {
            "outlinewidth": 0,
            "ticks": ""
           }
          },
          "colorscale": {
           "diverging": [
            [
             0,
             "#8e0152"
            ],
            [
             0.1,
             "#c51b7d"
            ],
            [
             0.2,
             "#de77ae"
            ],
            [
             0.3,
             "#f1b6da"
            ],
            [
             0.4,
             "#fde0ef"
            ],
            [
             0.5,
             "#f7f7f7"
            ],
            [
             0.6,
             "#e6f5d0"
            ],
            [
             0.7,
             "#b8e186"
            ],
            [
             0.8,
             "#7fbc41"
            ],
            [
             0.9,
             "#4d9221"
            ],
            [
             1,
             "#276419"
            ]
           ],
           "sequential": [
            [
             0,
             "#0d0887"
            ],
            [
             0.1111111111111111,
             "#46039f"
            ],
            [
             0.2222222222222222,
             "#7201a8"
            ],
            [
             0.3333333333333333,
             "#9c179e"
            ],
            [
             0.4444444444444444,
             "#bd3786"
            ],
            [
             0.5555555555555556,
             "#d8576b"
            ],
            [
             0.6666666666666666,
             "#ed7953"
            ],
            [
             0.7777777777777778,
             "#fb9f3a"
            ],
            [
             0.8888888888888888,
             "#fdca26"
            ],
            [
             1,
             "#f0f921"
            ]
           ],
           "sequentialminus": [
            [
             0,
             "#0d0887"
            ],
            [
             0.1111111111111111,
             "#46039f"
            ],
            [
             0.2222222222222222,
             "#7201a8"
            ],
            [
             0.3333333333333333,
             "#9c179e"
            ],
            [
             0.4444444444444444,
             "#bd3786"
            ],
            [
             0.5555555555555556,
             "#d8576b"
            ],
            [
             0.6666666666666666,
             "#ed7953"
            ],
            [
             0.7777777777777778,
             "#fb9f3a"
            ],
            [
             0.8888888888888888,
             "#fdca26"
            ],
            [
             1,
             "#f0f921"
            ]
           ]
          },
          "colorway": [
           "#636efa",
           "#EF553B",
           "#00cc96",
           "#ab63fa",
           "#FFA15A",
           "#19d3f3",
           "#FF6692",
           "#B6E880",
           "#FF97FF",
           "#FECB52"
          ],
          "font": {
           "color": "#f2f5fa"
          },
          "geo": {
           "bgcolor": "rgb(17,17,17)",
           "lakecolor": "rgb(17,17,17)",
           "landcolor": "rgb(17,17,17)",
           "showlakes": true,
           "showland": true,
           "subunitcolor": "#506784"
          },
          "hoverlabel": {
           "align": "left"
          },
          "hovermode": "closest",
          "mapbox": {
           "style": "dark"
          },
          "paper_bgcolor": "rgb(17,17,17)",
          "plot_bgcolor": "rgb(17,17,17)",
          "polar": {
           "angularaxis": {
            "gridcolor": "#506784",
            "linecolor": "#506784",
            "ticks": ""
           },
           "bgcolor": "rgb(17,17,17)",
           "radialaxis": {
            "gridcolor": "#506784",
            "linecolor": "#506784",
            "ticks": ""
           }
          },
          "scene": {
           "xaxis": {
            "backgroundcolor": "rgb(17,17,17)",
            "gridcolor": "#506784",
            "gridwidth": 2,
            "linecolor": "#506784",
            "showbackground": true,
            "ticks": "",
            "zerolinecolor": "#C8D4E3"
           },
           "yaxis": {
            "backgroundcolor": "rgb(17,17,17)",
            "gridcolor": "#506784",
            "gridwidth": 2,
            "linecolor": "#506784",
            "showbackground": true,
            "ticks": "",
            "zerolinecolor": "#C8D4E3"
           },
           "zaxis": {
            "backgroundcolor": "rgb(17,17,17)",
            "gridcolor": "#506784",
            "gridwidth": 2,
            "linecolor": "#506784",
            "showbackground": true,
            "ticks": "",
            "zerolinecolor": "#C8D4E3"
           }
          },
          "shapedefaults": {
           "line": {
            "color": "#f2f5fa"
           }
          },
          "sliderdefaults": {
           "bgcolor": "#C8D4E3",
           "bordercolor": "rgb(17,17,17)",
           "borderwidth": 1,
           "tickwidth": 0
          },
          "ternary": {
           "aaxis": {
            "gridcolor": "#506784",
            "linecolor": "#506784",
            "ticks": ""
           },
           "baxis": {
            "gridcolor": "#506784",
            "linecolor": "#506784",
            "ticks": ""
           },
           "bgcolor": "rgb(17,17,17)",
           "caxis": {
            "gridcolor": "#506784",
            "linecolor": "#506784",
            "ticks": ""
           }
          },
          "title": {
           "x": 0.05
          },
          "updatemenudefaults": {
           "bgcolor": "#506784",
           "borderwidth": 0
          },
          "xaxis": {
           "automargin": true,
           "gridcolor": "#283442",
           "linecolor": "#506784",
           "ticks": "",
           "title": {
            "standoff": 15
           },
           "zerolinecolor": "#283442",
           "zerolinewidth": 2
          },
          "yaxis": {
           "automargin": true,
           "gridcolor": "#283442",
           "linecolor": "#506784",
           "ticks": "",
           "title": {
            "standoff": 15
           },
           "zerolinecolor": "#283442",
           "zerolinewidth": 2
          }
         }
        },
        "title": {
         "text": "Contenuti piu Popolari di Netflix"
        },
        "width": 800,
        "xaxis": {
         "anchor": "y",
         "autorange": true,
         "domain": [
          0,
          1
         ],
         "range": [
          -0.5,
          220.5
         ],
         "title": {
          "text": "duration"
         },
         "type": "category"
        },
        "yaxis": {
         "anchor": "x",
         "autorange": true,
         "domain": [
          0,
          1
         ],
         "range": [
          0,
          1887.3684210526317
         ],
         "title": {
          "text": "sum of y"
         },
         "type": "linear"
        }
       }
      },
      "image/png": "[encoded data removed]",
      "text/html": [
       "<div>                            <div id=\"b113fd22-194b-43a7-bfcc-464de2aa80f6\" class=\"plotly-graph-div\" style=\"height:500px; width:800px;\"></div>            <script type=\"text/javascript\">                require([\"plotly\"], function(Plotly) {                    window.PLOTLYENV=window.PLOTLYENV || {};                                    if (document.getElementById(\"b113fd22-194b-43a7-bfcc-464de2aa80f6\")) {                    Plotly.newPlot(                        \"b113fd22-194b-43a7-bfcc-464de2aa80f6\",                        [{\"alignmentgroup\":\"True\",\"bingroup\":\"x\",\"histfunc\":\"sum\",\"hovertemplate\":\"duration=%{x}<br>sum of y=%{y}<extra></extra>\",\"legendgroup\":\"\",\"marker\":{\"color\":\"#cc0000\",\"pattern\":{\"shape\":\"\"}},\"name\":\"\",\"offsetgroup\":\"\",\"orientation\":\"v\",\"showlegend\":false,\"x\":[\"1 Season\",\"2 Seasons\",\"3 Seasons\",\"90 min\",\"94 min\",\"97 min\",\"93 min\",\"91 min\",\"95 min\",\"96 min\",\"92 min\",\"102 min\",\"98 min\",\"99 min\",\"101 min\",\"88 min\",\"103 min\",\"106 min\",\"100 min\",\"89 min\",\"104 min\",\"86 min\",\"105 min\",\"87 min\",\"107 min\",\"110 min\",\"4 Seasons\",\"108 min\",\"116 min\",\"112 min\",\"85 min\",\"113 min\",\"109 min\",\"111 min\",\"84 min\",\"118 min\",\"83 min\",\"5 Seasons\",\"119 min\",\"81 min\",\"115 min\",\"117 min\",\"120 min\",\"114 min\",\"121 min\",\"82 min\",\"124 min\",\"127 min\",\"122 min\",\"78 min\",\"123 min\",\"126 min\",\"80 min\",\"133 min\",\"128 min\",\"130 min\",\"135 min\",\"137 min\",\"132 min\",\"125 min\",\"75 min\",\"79 min\",\"131 min\",\"6 Seasons\",\"72 min\",\"63 min\",\"129 min\",\"76 min\",\"61 min\",\"74 min\",\"73 min\",\"77 min\",\"60 min\",\"71 min\",\"66 min\",\"69 min\",\"70 min\",\"140 min\",\"65 min\",\"58 min\",\"59 min\",\"68 min\",\"54 min\",\"46 min\",\"62 min\",\"53 min\",\"64 min\",\"136 min\",\"7 Seasons\",\"24 min\",\"143 min\",\"134 min\",\"139 min\",\"138 min\",\"67 min\",\"52 min\",\"44 min\",\"141 min\",\"148 min\",\"145 min\",\"150 min\",\"8 Seasons\",\"22 min\",\"55 min\",\"151 min\",\"149 min\",\"162 min\",\"57 min\",\"146 min\",\"23 min\",\"142 min\",\"154 min\",\"40 min\",\"158 min\",\"56 min\",\"147 min\",\"153 min\",\"163 min\",\"25 min\",\"51 min\",\"29 min\",\"47 min\",\"161 min\",\"45 min\",\"155 min\",\"28 min\",\"50 min\",\"156 min\",\"42 min\",\"32 min\",\"144 min\",\"9 Seasons\",\"49 min\",\"166 min\",\"165 min\",\"48 min\",\"168 min\",\"10 Seasons\",\"171 min\",\"173 min\",\"185 min\",\"26 min\",\"33 min\",\"159 min\",\"30 min\",\"160 min\",\"157 min\",\"176 min\",\"152 min\",\"170 min\",\"36 min\",\"177 min\",\"38 min\",\"35 min\",\"181 min\",\"172 min\",\"164 min\",\"14 min\",\"12 min\",\"13 Seasons\",\"34 min\",\"182 min\",\"41 min\",\"13 min\",\"17 min\",\"15 min\",\"27 min\",\"Unknown\",\"37 min\",\"21 min\",\"19 min\",\"12 Seasons\",\"31 min\",\"169 min\",\"39 min\",\"11 min\",\"179 min\",\"187 min\",\"209 min\",\"11 Seasons\",\"174 min\",\"192 min\",\"180 min\",\"190 min\",\"20 min\",\"15 Seasons\",\"195 min\",\"204 min\",\"228 min\",\"18 min\",\"178 min\",\"167 min\",\"214 min\",\"200 min\",\"43 min\",\"8 min\",\"205 min\",\"9 min\",\"224 min\",\"201 min\",\"212 min\",\"203 min\",\"196 min\",\"312 min\",\"194 min\",\"230 min\",\"208 min\",\"17 Seasons\",\"273 min\",\"253 min\",\"16 min\",\"186 min\",\"193 min\",\"5 min\",\"237 min\",\"233 min\",\"189 min\",\"10 min\",\"3 min\",\"229 min\",\"191 min\"],\"xaxis\":\"x\",\"y\":[1793,425,199,152,146,146,146,144,137,130,129,122,120,118,116,116,114,111,108,106,104,103,101,101,98,97,95,87,80,74,73,69,69,68,67,65,65,65,63,62,61,61,56,56,54,52,52,48,45,45,44,44,43,42,41,40,39,38,37,36,35,35,34,33,33,32,32,31,31,31,30,30,29,28,28,28,28,25,25,25,25,25,24,24,24,24,23,23,23,23,23,22,22,21,21,20,19,19,19,18,17,17,16,16,15,15,14,14,13,13,13,13,13,12,12,12,11,11,11,11,11,11,10,10,10,10,10,10,9,9,9,9,9,8,8,8,7,7,7,6,6,6,6,6,6,6,6,5,5,5,5,5,5,5,4,4,4,3,3,3,3,3,3,3,3,3,3,3,3,3,2,2,2,2,2,2,2,2,2,2,2,2,2,2,2,2,2,2,1,1,1,1,1,1,1,1,1,1,1,1,1,1,1,1,1,1,1,1,1,1,1,1,1,1,1,1,1,1,1,1,1],\"yaxis\":\"y\",\"type\":\"histogram\"}],                        {\"template\":{\"data\":{\"barpolar\":[{\"marker\":{\"line\":{\"color\":\"rgb(17,17,17)\",\"width\":0.5},\"pattern\":{\"fillmode\":\"overlay\",\"size\":10,\"solidity\":0.2}},\"type\":\"barpolar\"}],\"bar\":[{\"error_x\":{\"color\":\"#f2f5fa\"},\"error_y\":{\"color\":\"#f2f5fa\"},\"marker\":{\"line\":{\"color\":\"rgb(17,17,17)\",\"width\":0.5},\"pattern\":{\"fillmode\":\"overlay\",\"size\":10,\"solidity\":0.2}},\"type\":\"bar\"}],\"carpet\":[{\"aaxis\":{\"endlinecolor\":\"#A2B1C6\",\"gridcolor\":\"#506784\",\"linecolor\":\"#506784\",\"minorgridcolor\":\"#506784\",\"startlinecolor\":\"#A2B1C6\"},\"baxis\":{\"endlinecolor\":\"#A2B1C6\",\"gridcolor\":\"#506784\",\"linecolor\":\"#506784\",\"minorgridcolor\":\"#506784\",\"startlinecolor\":\"#A2B1C6\"},\"type\":\"carpet\"}],\"choropleth\":[{\"colorbar\":{\"outlinewidth\":0,\"ticks\":\"\"},\"type\":\"choropleth\"}],\"contourcarpet\":[{\"colorbar\":{\"outlinewidth\":0,\"ticks\":\"\"},\"type\":\"contourcarpet\"}],\"contour\":[{\"colorbar\":{\"outlinewidth\":0,\"ticks\":\"\"},\"colorscale\":[[0.0,\"#0d0887\"],[0.1111111111111111,\"#46039f\"],[0.2222222222222222,\"#7201a8\"],[0.3333333333333333,\"#9c179e\"],[0.4444444444444444,\"#bd3786\"],[0.5555555555555556,\"#d8576b\"],[0.6666666666666666,\"#ed7953\"],[0.7777777777777778,\"#fb9f3a\"],[0.8888888888888888,\"#fdca26\"],[1.0,\"#f0f921\"]],\"type\":\"contour\"}],\"heatmapgl\":[{\"colorbar\":{\"outlinewidth\":0,\"ticks\":\"\"},\"colorscale\":[[0.0,\"#0d0887\"],[0.1111111111111111,\"#46039f\"],[0.2222222222222222,\"#7201a8\"],[0.3333333333333333,\"#9c179e\"],[0.4444444444444444,\"#bd3786\"],[0.5555555555555556,\"#d8576b\"],[0.6666666666666666,\"#ed7953\"],[0.7777777777777778,\"#fb9f3a\"],[0.8888888888888888,\"#fdca26\"],[1.0,\"#f0f921\"]],\"type\":\"heatmapgl\"}],\"heatmap\":[{\"colorbar\":{\"outlinewidth\":0,\"ticks\":\"\"},\"colorscale\":[[0.0,\"#0d0887\"],[0.1111111111111111,\"#46039f\"],[0.2222222222222222,\"#7201a8\"],[0.3333333333333333,\"#9c179e\"],[0.4444444444444444,\"#bd3786\"],[0.5555555555555556,\"#d8576b\"],[0.6666666666666666,\"#ed7953\"],[0.7777777777777778,\"#fb9f3a\"],[0.8888888888888888,\"#fdca26\"],[1.0,\"#f0f921\"]],\"type\":\"heatmap\"}],\"histogram2dcontour\":[{\"colorbar\":{\"outlinewidth\":0,\"ticks\":\"\"},\"colorscale\":[[0.0,\"#0d0887\"],[0.1111111111111111,\"#46039f\"],[0.2222222222222222,\"#7201a8\"],[0.3333333333333333,\"#9c179e\"],[0.4444444444444444,\"#bd3786\"],[0.5555555555555556,\"#d8576b\"],[0.6666666666666666,\"#ed7953\"],[0.7777777777777778,\"#fb9f3a\"],[0.8888888888888888,\"#fdca26\"],[1.0,\"#f0f921\"]],\"type\":\"histogram2dcontour\"}],\"histogram2d\":[{\"colorbar\":{\"outlinewidth\":0,\"ticks\":\"\"},\"colorscale\":[[0.0,\"#0d0887\"],[0.1111111111111111,\"#46039f\"],[0.2222222222222222,\"#7201a8\"],[0.3333333333333333,\"#9c179e\"],[0.4444444444444444,\"#bd3786\"],[0.5555555555555556,\"#d8576b\"],[0.6666666666666666,\"#ed7953\"],[0.7777777777777778,\"#fb9f3a\"],[0.8888888888888888,\"#fdca26\"],[1.0,\"#f0f921\"]],\"type\":\"histogram2d\"}],\"histogram\":[{\"marker\":{\"pattern\":{\"fillmode\":\"overlay\",\"size\":10,\"solidity\":0.2}},\"type\":\"histogram\"}],\"mesh3d\":[{\"colorbar\":{\"outlinewidth\":0,\"ticks\":\"\"},\"type\":\"mesh3d\"}],\"parcoords\":[{\"line\":{\"colorbar\":{\"outlinewidth\":0,\"ticks\":\"\"}},\"type\":\"parcoords\"}],\"pie\":[{\"automargin\":true,\"type\":\"pie\"}],\"scatter3d\":[{\"line\":{\"colorbar\":{\"outlinewidth\":0,\"ticks\":\"\"}},\"marker\":{\"colorbar\":{\"outlinewidth\":0,\"ticks\":\"\"}},\"type\":\"scatter3d\"}],\"scattercarpet\":[{\"marker\":{\"colorbar\":{\"outlinewidth\":0,\"ticks\":\"\"}},\"type\":\"scattercarpet\"}],\"scattergeo\":[{\"marker\":{\"colorbar\":{\"outlinewidth\":0,\"ticks\":\"\"}},\"type\":\"scattergeo\"}],\"scattergl\":[{\"marker\":{\"line\":{\"color\":\"#283442\"}},\"type\":\"scattergl\"}],\"scattermapbox\":[{\"marker\":{\"colorbar\":{\"outlinewidth\":0,\"ticks\":\"\"}},\"type\":\"scattermapbox\"}],\"scatterpolargl\":[{\"marker\":{\"colorbar\":{\"outlinewidth\":0,\"ticks\":\"\"}},\"type\":\"scatterpolargl\"}],\"scatterpolar\":[{\"marker\":{\"colorbar\":{\"outlinewidth\":0,\"ticks\":\"\"}},\"type\":\"scatterpolar\"}],\"scatter\":[{\"marker\":{\"line\":{\"color\":\"#283442\"}},\"type\":\"scatter\"}],\"scatterternary\":[{\"marker\":{\"colorbar\":{\"outlinewidth\":0,\"ticks\":\"\"}},\"type\":\"scatterternary\"}],\"surface\":[{\"colorbar\":{\"outlinewidth\":0,\"ticks\":\"\"},\"colorscale\":[[0.0,\"#0d0887\"],[0.1111111111111111,\"#46039f\"],[0.2222222222222222,\"#7201a8\"],[0.3333333333333333,\"#9c179e\"],[0.4444444444444444,\"#bd3786\"],[0.5555555555555556,\"#d8576b\"],[0.6666666666666666,\"#ed7953\"],[0.7777777777777778,\"#fb9f3a\"],[0.8888888888888888,\"#fdca26\"],[1.0,\"#f0f921\"]],\"type\":\"surface\"}],\"table\":[{\"cells\":{\"fill\":{\"color\":\"#506784\"},\"line\":{\"color\":\"rgb(17,17,17)\"}},\"header\":{\"fill\":{\"color\":\"#2a3f5f\"},\"line\":{\"color\":\"rgb(17,17,17)\"}},\"type\":\"table\"}]},\"layout\":{\"annotationdefaults\":{\"arrowcolor\":\"#f2f5fa\",\"arrowhead\":0,\"arrowwidth\":1},\"autotypenumbers\":\"strict\",\"coloraxis\":{\"colorbar\":{\"outlinewidth\":0,\"ticks\":\"\"}},\"colorscale\":{\"diverging\":[[0,\"#8e0152\"],[0.1,\"#c51b7d\"],[0.2,\"#de77ae\"],[0.3,\"#f1b6da\"],[0.4,\"#fde0ef\"],[0.5,\"#f7f7f7\"],[0.6,\"#e6f5d0\"],[0.7,\"#b8e186\"],[0.8,\"#7fbc41\"],[0.9,\"#4d9221\"],[1,\"#276419\"]],\"sequential\":[[0.0,\"#0d0887\"],[0.1111111111111111,\"#46039f\"],[0.2222222222222222,\"#7201a8\"],[0.3333333333333333,\"#9c179e\"],[0.4444444444444444,\"#bd3786\"],[0.5555555555555556,\"#d8576b\"],[0.6666666666666666,\"#ed7953\"],[0.7777777777777778,\"#fb9f3a\"],[0.8888888888888888,\"#fdca26\"],[1.0,\"#f0f921\"]],\"sequentialminus\":[[0.0,\"#0d0887\"],[0.1111111111111111,\"#46039f\"],[0.2222222222222222,\"#7201a8\"],[0.3333333333333333,\"#9c179e\"],[0.4444444444444444,\"#bd3786\"],[0.5555555555555556,\"#d8576b\"],[0.6666666666666666,\"#ed7953\"],[0.7777777777777778,\"#fb9f3a\"],[0.8888888888888888,\"#fdca26\"],[1.0,\"#f0f921\"]]},\"colorway\":[\"#636efa\",\"#EF553B\",\"#00cc96\",\"#ab63fa\",\"#FFA15A\",\"#19d3f3\",\"#FF6692\",\"#B6E880\",\"#FF97FF\",\"#FECB52\"],\"font\":{\"color\":\"#f2f5fa\"},\"geo\":{\"bgcolor\":\"rgb(17,17,17)\",\"lakecolor\":\"rgb(17,17,17)\",\"landcolor\":\"rgb(17,17,17)\",\"showlakes\":true,\"showland\":true,\"subunitcolor\":\"#506784\"},\"hoverlabel\":{\"align\":\"left\"},\"hovermode\":\"closest\",\"mapbox\":{\"style\":\"dark\"},\"paper_bgcolor\":\"rgb(17,17,17)\",\"plot_bgcolor\":\"rgb(17,17,17)\",\"polar\":{\"angularaxis\":{\"gridcolor\":\"#506784\",\"linecolor\":\"#506784\",\"ticks\":\"\"},\"bgcolor\":\"rgb(17,17,17)\",\"radialaxis\":{\"gridcolor\":\"#506784\",\"linecolor\":\"#506784\",\"ticks\":\"\"}},\"scene\":{\"xaxis\":{\"backgroundcolor\":\"rgb(17,17,17)\",\"gridcolor\":\"#506784\",\"gridwidth\":2,\"linecolor\":\"#506784\",\"showbackground\":true,\"ticks\":\"\",\"zerolinecolor\":\"#C8D4E3\"},\"yaxis\":{\"backgroundcolor\":\"rgb(17,17,17)\",\"gridcolor\":\"#506784\",\"gridwidth\":2,\"linecolor\":\"#506784\",\"showbackground\":true,\"ticks\":\"\",\"zerolinecolor\":\"#C8D4E3\"},\"zaxis\":{\"backgroundcolor\":\"rgb(17,17,17)\",\"gridcolor\":\"#506784\",\"gridwidth\":2,\"linecolor\":\"#506784\",\"showbackground\":true,\"ticks\":\"\",\"zerolinecolor\":\"#C8D4E3\"}},\"shapedefaults\":{\"line\":{\"color\":\"#f2f5fa\"}},\"sliderdefaults\":{\"bgcolor\":\"#C8D4E3\",\"bordercolor\":\"rgb(17,17,17)\",\"borderwidth\":1,\"tickwidth\":0},\"ternary\":{\"aaxis\":{\"gridcolor\":\"#506784\",\"linecolor\":\"#506784\",\"ticks\":\"\"},\"baxis\":{\"gridcolor\":\"#506784\",\"linecolor\":\"#506784\",\"ticks\":\"\"},\"bgcolor\":\"rgb(17,17,17)\",\"caxis\":{\"gridcolor\":\"#506784\",\"linecolor\":\"#506784\",\"ticks\":\"\"}},\"title\":{\"x\":0.05},\"updatemenudefaults\":{\"bgcolor\":\"#506784\",\"borderwidth\":0},\"xaxis\":{\"automargin\":true,\"gridcolor\":\"#283442\",\"linecolor\":\"#506784\",\"ticks\":\"\",\"title\":{\"standoff\":15},\"zerolinecolor\":\"#283442\",\"zerolinewidth\":2},\"yaxis\":{\"automargin\":true,\"gridcolor\":\"#283442\",\"linecolor\":\"#506784\",\"ticks\":\"\",\"title\":{\"standoff\":15},\"zerolinecolor\":\"#283442\",\"zerolinewidth\":2}}},\"xaxis\":{\"anchor\":\"y\",\"domain\":[0.0,1.0],\"title\":{\"text\":\"duration\"}},\"yaxis\":{\"anchor\":\"x\",\"domain\":[0.0,1.0],\"title\":{\"text\":\"sum of y\"}},\"legend\":{\"tracegroupgap\":0},\"title\":{\"text\":\"Contenuti piu Popolari di Netflix\"},\"barmode\":\"relative\",\"height\":500,\"width\":800,\"bargap\":0.5},                        {\"responsive\": true}                    ).then(function(){\n",
       "                            \n",
       "var gd = document.getElementById('b113fd22-194b-43a7-bfcc-464de2aa80f6');\n",
       "var x = new MutationObserver(function (mutations, observer) {{\n",
       "        var display = window.getComputedStyle(gd).display;\n",
       "        if (!display || display === 'none') {{\n",
       "            console.log([gd, 'removed!']);\n",
       "            Plotly.purge(gd);\n",
       "            observer.disconnect();\n",
       "        }}\n",
       "}});\n",
       "\n",
       "// Listen for the removal of the full notebook cells\n",
       "var notebookContainer = gd.closest('#notebook-container');\n",
       "if (notebookContainer) {{\n",
       "    x.observe(notebookContainer, {childList: true});\n",
       "}}\n",
       "\n",
       "// Listen for the clearing of the current output cell\n",
       "var outputEl = gd.closest('.output');\n",
       "if (outputEl) {{\n",
       "    x.observe(outputEl, {childList: true});\n",
       "}}\n",
       "\n",
       "                        })                };                });            </script>        </div>"
      ]
     },
     "metadata": {},
     "output_type": "display_data"
    }
   ],
   "source": [
    "chart_colors = ['#cc0000', '#8c564b', '#ff7f0e', '#1f77b4',  '#FF9900', '#d1d6d5', '#333333', '#FFFFFF']\n",
    "\n",
    "fig = px.histogram(duration, duration.index, duration.values, \n",
    "                   template= \"plotly_dark\",\n",
    "                   color_discrete_sequence= chart_colors, \n",
    "                   width = 800, height = 500, \n",
    "                   title = 'Contenuti piu Popolari di Netflix'\n",
    "                  )\n",
    "fig.update_layout(bargap=0.5)\n",
    "\n",
    "fig.show()"
   ]
  },
  {
   "cell_type": "markdown",
   "id": "92ecd41d-64a7-4569-be28-dfe63ebbb823",
   "metadata": {},
   "source": [
    "### Le Serie TV dalla 1 stagione sono le più popolari, mentre tra i film con durata di 97 e 92 minuti sono i più comuni."
   ]
  },
  {
   "cell_type": "markdown",
   "id": "456b1fac-6f5b-49a0-8b29-e22226af1668",
   "metadata": {},
   "source": [
    "### Suddividiamo i nostri dati e consideriamo separatamente le Serie TV e i Film nelle nostre successive analisi."
   ]
  },
  {
   "cell_type": "code",
   "execution_count": 120,
   "id": "f30bad48",
   "metadata": {
    "papermill": {
     "duration": 0.053996,
     "end_time": "2024-05-13T12:24:25.201136",
     "exception": false,
     "start_time": "2024-05-13T12:24:25.147140",
     "status": "completed"
    },
    "tags": []
   },
   "outputs": [],
   "source": [
    "movies = df[df['type'] == 'Movie'].copy()"
   ]
  },
  {
   "cell_type": "code",
   "execution_count": 151,
   "id": "d8f9ddaf-7694-4a24-94bf-074a72a9c195",
   "metadata": {
    "papermill": {
     "duration": 0.051311,
     "end_time": "2024-05-13T12:24:25.288933",
     "exception": false,
     "start_time": "2024-05-13T12:24:25.237622",
     "status": "completed"
    },
    "tags": []
   },
   "outputs": [],
   "source": [
    "tv_shows = df[df['type'] == 'TV Show'].copy()"
   ]
  },
  {
   "cell_type": "markdown",
   "id": "7307e591-4a4d-46b4-98d3-d37caba62629",
   "metadata": {},
   "source": [
    "# Serie TV"
   ]
  },
  {
   "cell_type": "code",
   "execution_count": 31,
   "id": "c9daab8f-2f85-43ff-9c5c-e3606208b613",
   "metadata": {
    "papermill": {
     "duration": 0.051311,
     "end_time": "2024-05-13T12:24:25.288933",
     "exception": false,
     "start_time": "2024-05-13T12:24:25.237622",
     "status": "completed"
    },
    "tags": []
   },
   "outputs": [
    {
     "ename": "NameError",
     "evalue": "name 'df' is not defined",
     "output_type": "error",
     "traceback": [
      "\u001b[0;31m---------------------------------------------------------------------------\u001b[0m",
      "\u001b[0;31mNameError\u001b[0m                                 Traceback (most recent call last)",
      "Cell \u001b[0;32mIn[31], line 1\u001b[0m\n\u001b[0;32m----> 1\u001b[0m tv_shows \u001b[38;5;241m=\u001b[39m df[df[\u001b[38;5;124m'\u001b[39m\u001b[38;5;124mtype\u001b[39m\u001b[38;5;124m'\u001b[39m] \u001b[38;5;241m==\u001b[39m \u001b[38;5;124m'\u001b[39m\u001b[38;5;124mTV Show\u001b[39m\u001b[38;5;124m'\u001b[39m]\u001b[38;5;241m.\u001b[39mcopy()\n",
      "\u001b[0;31mNameError\u001b[0m: name 'df' is not defined"
     ]
    }
   ],
   "source": [
    "tv_shows = df[df['type'] == 'TV Show'].copy()"
   ]
  },
  {
   "cell_type": "code",
   "execution_count": 168,
   "id": "dd41036d-63b4-4971-9acd-46173e19d25e",
   "metadata": {
    "papermill": {
     "duration": 0.059281,
     "end_time": "2024-05-13T12:24:25.874030",
     "exception": false,
     "start_time": "2024-05-13T12:24:25.814749",
     "status": "completed"
    },
    "tags": []
   },
   "outputs": [
    {
     "data": {
      "text/html": [
       "<div>\n",
       "<style scoped>\n",
       "    .dataframe tbody tr th:only-of-type {\n",
       "        vertical-align: middle;\n",
       "    }\n",
       "\n",
       "    .dataframe tbody tr th {\n",
       "        vertical-align: top;\n",
       "    }\n",
       "\n",
       "    .dataframe thead th {\n",
       "        text-align: right;\n",
       "    }\n",
       "</style>\n",
       "<table border=\"1\" class=\"dataframe\">\n",
       "  <thead>\n",
       "    <tr style=\"text-align: right;\">\n",
       "      <th></th>\n",
       "      <th>date_added</th>\n",
       "    </tr>\n",
       "  </thead>\n",
       "  <tbody>\n",
       "    <tr>\n",
       "      <th>1</th>\n",
       "      <td>September 24, 2021</td>\n",
       "    </tr>\n",
       "    <tr>\n",
       "      <th>2</th>\n",
       "      <td>September 24, 2021</td>\n",
       "    </tr>\n",
       "    <tr>\n",
       "      <th>3</th>\n",
       "      <td>September 24, 2021</td>\n",
       "    </tr>\n",
       "    <tr>\n",
       "      <th>4</th>\n",
       "      <td>September 24, 2021</td>\n",
       "    </tr>\n",
       "    <tr>\n",
       "      <th>5</th>\n",
       "      <td>September 24, 2021</td>\n",
       "    </tr>\n",
       "  </tbody>\n",
       "</table>\n",
       "</div>"
      ],
      "text/plain": [
       "           date_added\n",
       "1  September 24, 2021\n",
       "2  September 24, 2021\n",
       "3  September 24, 2021\n",
       "4  September 24, 2021\n",
       "5  September 24, 2021"
      ]
     },
     "execution_count": 168,
     "metadata": {},
     "output_type": "execute_result"
    }
   ],
   "source": [
    "tv_shows_release = tv_shows[['date_added']]\n",
    "tv_shows_release = tv_shows_release.dropna()\n",
    "tv_shows_release[:5]"
   ]
  },
  {
   "cell_type": "code",
   "execution_count": 170,
   "id": "818df867-bb27-4731-8996-2b315a833acb",
   "metadata": {},
   "outputs": [
    {
     "data": {
      "text/html": [
       "<div>\n",
       "<style scoped>\n",
       "    .dataframe tbody tr th:only-of-type {\n",
       "        vertical-align: middle;\n",
       "    }\n",
       "\n",
       "    .dataframe tbody tr th {\n",
       "        vertical-align: top;\n",
       "    }\n",
       "\n",
       "    .dataframe thead th {\n",
       "        text-align: right;\n",
       "    }\n",
       "</style>\n",
       "<table border=\"1\" class=\"dataframe\">\n",
       "  <thead>\n",
       "    <tr style=\"text-align: right;\">\n",
       "      <th></th>\n",
       "      <th>date_added</th>\n",
       "      <th>month</th>\n",
       "      <th>year</th>\n",
       "    </tr>\n",
       "  </thead>\n",
       "  <tbody>\n",
       "    <tr>\n",
       "      <th>1</th>\n",
       "      <td>September 24, 2021</td>\n",
       "      <td>September</td>\n",
       "      <td>2021</td>\n",
       "    </tr>\n",
       "    <tr>\n",
       "      <th>2</th>\n",
       "      <td>September 24, 2021</td>\n",
       "      <td>September</td>\n",
       "      <td>2021</td>\n",
       "    </tr>\n",
       "    <tr>\n",
       "      <th>3</th>\n",
       "      <td>September 24, 2021</td>\n",
       "      <td>September</td>\n",
       "      <td>2021</td>\n",
       "    </tr>\n",
       "    <tr>\n",
       "      <th>4</th>\n",
       "      <td>September 24, 2021</td>\n",
       "      <td>September</td>\n",
       "      <td>2021</td>\n",
       "    </tr>\n",
       "    <tr>\n",
       "      <th>5</th>\n",
       "      <td>September 24, 2021</td>\n",
       "      <td>September</td>\n",
       "      <td>2021</td>\n",
       "    </tr>\n",
       "  </tbody>\n",
       "</table>\n",
       "</div>"
      ],
      "text/plain": [
       "           date_added      month  year\n",
       "1  September 24, 2021  September  2021\n",
       "2  September 24, 2021  September  2021\n",
       "3  September 24, 2021  September  2021\n",
       "4  September 24, 2021  September  2021\n",
       "5  September 24, 2021  September  2021"
      ]
     },
     "execution_count": 170,
     "metadata": {},
     "output_type": "execute_result"
    }
   ],
   "source": [
    "# Creiamo una funzione per estrarre il mese e l'anno in modo sicuro\n",
    "def extract_date_components(date_str):\n",
    "    if isinstance(date_str, str) and len(date_str.split(', ')) == 2:\n",
    "        month = date_str.split(' ')[0]\n",
    "        year = date_str.split(', ')[1]\n",
    "        return month, year\n",
    "    else:\n",
    "        return None, None\n",
    "\n",
    "# Applichiamo la funzione al DataFrame\n",
    "tv_shows_release['month'], tv_shows_release['year'] = zip(*tv_shows_release['date_added'].apply(extract_date_components))\n",
    "\n",
    "# Controlliamo le prime righe del DataFrame per verificare i risultati\n",
    "tv_shows_release.head()\n"
   ]
  },
  {
   "cell_type": "code",
   "execution_count": 173,
   "id": "024cf5f4-1861-4936-9fad-a11c0e6a233e",
   "metadata": {},
   "outputs": [],
   "source": [
    "months_list = ['January', 'February', 'March', 'April', 'May', 'June', 'July', 'August', 'September', 'October', 'November', 'December']"
   ]
  },
  {
   "cell_type": "code",
   "execution_count": 178,
   "id": "eee5412c-7114-4e73-9c68-a6a034e0007c",
   "metadata": {},
   "outputs": [
    {
     "data": {
      "text/html": [
       "<div>\n",
       "<style scoped>\n",
       "    .dataframe tbody tr th:only-of-type {\n",
       "        vertical-align: middle;\n",
       "    }\n",
       "\n",
       "    .dataframe tbody tr th {\n",
       "        vertical-align: top;\n",
       "    }\n",
       "\n",
       "    .dataframe thead th {\n",
       "        text-align: right;\n",
       "    }\n",
       "</style>\n",
       "<table border=\"1\" class=\"dataframe\">\n",
       "  <thead>\n",
       "    <tr style=\"text-align: right;\">\n",
       "      <th>year</th>\n",
       "      <th>2008</th>\n",
       "      <th>2013</th>\n",
       "      <th>2014</th>\n",
       "      <th>2015</th>\n",
       "      <th>2016</th>\n",
       "      <th>2017</th>\n",
       "      <th>2018</th>\n",
       "      <th>2019</th>\n",
       "      <th>2020</th>\n",
       "      <th>2021</th>\n",
       "    </tr>\n",
       "    <tr>\n",
       "      <th>month</th>\n",
       "      <th></th>\n",
       "      <th></th>\n",
       "      <th></th>\n",
       "      <th></th>\n",
       "      <th></th>\n",
       "      <th></th>\n",
       "      <th></th>\n",
       "      <th></th>\n",
       "      <th></th>\n",
       "      <th></th>\n",
       "    </tr>\n",
       "  </thead>\n",
       "  <tbody>\n",
       "    <tr>\n",
       "      <th>January</th>\n",
       "      <td>0.0</td>\n",
       "      <td>0.0</td>\n",
       "      <td>0.0</td>\n",
       "      <td>0.0</td>\n",
       "      <td>26.0</td>\n",
       "      <td>14.0</td>\n",
       "      <td>18.0</td>\n",
       "      <td>35.0</td>\n",
       "      <td>52.0</td>\n",
       "      <td>36.0</td>\n",
       "    </tr>\n",
       "    <tr>\n",
       "      <th>February</th>\n",
       "      <td>1.0</td>\n",
       "      <td>0.0</td>\n",
       "      <td>1.0</td>\n",
       "      <td>0.0</td>\n",
       "      <td>6.0</td>\n",
       "      <td>16.0</td>\n",
       "      <td>23.0</td>\n",
       "      <td>42.0</td>\n",
       "      <td>42.0</td>\n",
       "      <td>44.0</td>\n",
       "    </tr>\n",
       "    <tr>\n",
       "      <th>March</th>\n",
       "      <td>0.0</td>\n",
       "      <td>1.0</td>\n",
       "      <td>0.0</td>\n",
       "      <td>1.0</td>\n",
       "      <td>2.0</td>\n",
       "      <td>36.0</td>\n",
       "      <td>32.0</td>\n",
       "      <td>52.0</td>\n",
       "      <td>44.0</td>\n",
       "      <td>37.0</td>\n",
       "    </tr>\n",
       "    <tr>\n",
       "      <th>April</th>\n",
       "      <td>0.0</td>\n",
       "      <td>0.0</td>\n",
       "      <td>1.0</td>\n",
       "      <td>4.0</td>\n",
       "      <td>7.0</td>\n",
       "      <td>25.0</td>\n",
       "      <td>27.0</td>\n",
       "      <td>42.0</td>\n",
       "      <td>50.0</td>\n",
       "      <td>53.0</td>\n",
       "    </tr>\n",
       "    <tr>\n",
       "      <th>May</th>\n",
       "      <td>0.0</td>\n",
       "      <td>0.0</td>\n",
       "      <td>0.0</td>\n",
       "      <td>0.0</td>\n",
       "      <td>2.0</td>\n",
       "      <td>22.0</td>\n",
       "      <td>25.0</td>\n",
       "      <td>48.0</td>\n",
       "      <td>52.0</td>\n",
       "      <td>38.0</td>\n",
       "    </tr>\n",
       "    <tr>\n",
       "      <th>June</th>\n",
       "      <td>0.0</td>\n",
       "      <td>0.0</td>\n",
       "      <td>0.0</td>\n",
       "      <td>1.0</td>\n",
       "      <td>7.0</td>\n",
       "      <td>27.0</td>\n",
       "      <td>27.0</td>\n",
       "      <td>46.0</td>\n",
       "      <td>41.0</td>\n",
       "      <td>83.0</td>\n",
       "    </tr>\n",
       "    <tr>\n",
       "      <th>July</th>\n",
       "      <td>0.0</td>\n",
       "      <td>0.0</td>\n",
       "      <td>0.0</td>\n",
       "      <td>2.0</td>\n",
       "      <td>9.0</td>\n",
       "      <td>30.0</td>\n",
       "      <td>25.0</td>\n",
       "      <td>57.0</td>\n",
       "      <td>43.0</td>\n",
       "      <td>88.0</td>\n",
       "    </tr>\n",
       "    <tr>\n",
       "      <th>August</th>\n",
       "      <td>0.0</td>\n",
       "      <td>1.0</td>\n",
       "      <td>0.0</td>\n",
       "      <td>0.0</td>\n",
       "      <td>11.0</td>\n",
       "      <td>33.0</td>\n",
       "      <td>33.0</td>\n",
       "      <td>44.0</td>\n",
       "      <td>47.0</td>\n",
       "      <td>61.0</td>\n",
       "    </tr>\n",
       "    <tr>\n",
       "      <th>September</th>\n",
       "      <td>0.0</td>\n",
       "      <td>1.0</td>\n",
       "      <td>0.0</td>\n",
       "      <td>0.0</td>\n",
       "      <td>17.0</td>\n",
       "      <td>32.0</td>\n",
       "      <td>42.0</td>\n",
       "      <td>36.0</td>\n",
       "      <td>53.0</td>\n",
       "      <td>65.0</td>\n",
       "    </tr>\n",
       "    <tr>\n",
       "      <th>October</th>\n",
       "      <td>0.0</td>\n",
       "      <td>1.0</td>\n",
       "      <td>0.0</td>\n",
       "      <td>4.0</td>\n",
       "      <td>19.0</td>\n",
       "      <td>28.0</td>\n",
       "      <td>44.0</td>\n",
       "      <td>63.0</td>\n",
       "      <td>51.0</td>\n",
       "      <td>0.0</td>\n",
       "    </tr>\n",
       "    <tr>\n",
       "      <th>November</th>\n",
       "      <td>0.0</td>\n",
       "      <td>0.0</td>\n",
       "      <td>2.0</td>\n",
       "      <td>1.0</td>\n",
       "      <td>16.0</td>\n",
       "      <td>27.0</td>\n",
       "      <td>36.0</td>\n",
       "      <td>66.0</td>\n",
       "      <td>51.0</td>\n",
       "      <td>0.0</td>\n",
       "    </tr>\n",
       "    <tr>\n",
       "      <th>December</th>\n",
       "      <td>0.0</td>\n",
       "      <td>0.0</td>\n",
       "      <td>0.0</td>\n",
       "      <td>4.0</td>\n",
       "      <td>43.0</td>\n",
       "      <td>35.0</td>\n",
       "      <td>56.0</td>\n",
       "      <td>44.0</td>\n",
       "      <td>68.0</td>\n",
       "      <td>0.0</td>\n",
       "    </tr>\n",
       "  </tbody>\n",
       "</table>\n",
       "</div>"
      ],
      "text/plain": [
       "year       2008  2013  2014  2015  2016  2017  2018  2019  2020  2021\n",
       "month                                                                \n",
       "January     0.0   0.0   0.0   0.0  26.0  14.0  18.0  35.0  52.0  36.0\n",
       "February    1.0   0.0   1.0   0.0   6.0  16.0  23.0  42.0  42.0  44.0\n",
       "March       0.0   1.0   0.0   1.0   2.0  36.0  32.0  52.0  44.0  37.0\n",
       "April       0.0   0.0   1.0   4.0   7.0  25.0  27.0  42.0  50.0  53.0\n",
       "May         0.0   0.0   0.0   0.0   2.0  22.0  25.0  48.0  52.0  38.0\n",
       "June        0.0   0.0   0.0   1.0   7.0  27.0  27.0  46.0  41.0  83.0\n",
       "July        0.0   0.0   0.0   2.0   9.0  30.0  25.0  57.0  43.0  88.0\n",
       "August      0.0   1.0   0.0   0.0  11.0  33.0  33.0  44.0  47.0  61.0\n",
       "September   0.0   1.0   0.0   0.0  17.0  32.0  42.0  36.0  53.0  65.0\n",
       "October     0.0   1.0   0.0   4.0  19.0  28.0  44.0  63.0  51.0   0.0\n",
       "November    0.0   0.0   2.0   1.0  16.0  27.0  36.0  66.0  51.0   0.0\n",
       "December    0.0   0.0   0.0   4.0  43.0  35.0  56.0  44.0  68.0   0.0"
      ]
     },
     "execution_count": 178,
     "metadata": {},
     "output_type": "execute_result"
    }
   ],
   "source": [
    "tv_shows_release_matrix =  tv_shows_release.groupby('year')['month'].value_counts().unstack()[months_list].fillna(0).T\n",
    "tv_shows_release_matrix"
   ]
  },
  {
   "cell_type": "code",
   "execution_count": 25,
   "id": "11217cf6-8870-4ea1-86ca-c99c45627c61",
   "metadata": {},
   "outputs": [],
   "source": [
    "# Pandas è una libreria per la manipolazione e l'analisi dei dati strutturati\n",
    "import pandas as pd\n",
    "\n",
    "# NumPy è una libreria fondamentale per il calcolo scientifico in Python\n",
    "import numpy as np\n",
    "\n",
    "# Matplotlib è una libreria per la creazione di visualizzazioni statiche\n",
    "import matplotlib.pyplot as plt\n",
    "\n",
    "# Plotly Express è una libreria per creare grafici interattivi in modo semplice e rapido.\n",
    "import plotly.express as px\n",
    "\n",
    "# Seaborn è una libreria di visualizzazione dei dati basata su Matplotlib, fornisce una interfaccia per disegnare grafici attraenti e informativi\n",
    "import seaborn as sns\n",
    "\n",
    "# Impostazione dello stile di Seaborn per i grafici (da quando l'ho scoperto lo uso)\n",
    "sns.set(style=\"darkgrid\")"
   ]
  },
  {
   "cell_type": "code",
   "execution_count": 27,
   "id": "f7f89beb-e5c6-470c-ad5f-81b901c46bcd",
   "metadata": {},
   "outputs": [
    {
     "ename": "NameError",
     "evalue": "name 'tv_shows_release' is not defined",
     "output_type": "error",
     "traceback": [
      "\u001b[0;31m---------------------------------------------------------------------------\u001b[0m",
      "\u001b[0;31mNameError\u001b[0m                                 Traceback (most recent call last)",
      "Cell \u001b[0;32mIn[27], line 6\u001b[0m\n\u001b[1;32m      2\u001b[0m mesi_ordinati \u001b[38;5;241m=\u001b[39m [\u001b[38;5;124m'\u001b[39m\u001b[38;5;124mJanuary\u001b[39m\u001b[38;5;124m'\u001b[39m, \u001b[38;5;124m'\u001b[39m\u001b[38;5;124mFebruary\u001b[39m\u001b[38;5;124m'\u001b[39m, \u001b[38;5;124m'\u001b[39m\u001b[38;5;124mMarch\u001b[39m\u001b[38;5;124m'\u001b[39m, \u001b[38;5;124m'\u001b[39m\u001b[38;5;124mApril\u001b[39m\u001b[38;5;124m'\u001b[39m, \u001b[38;5;124m'\u001b[39m\u001b[38;5;124mMay\u001b[39m\u001b[38;5;124m'\u001b[39m, \u001b[38;5;124m'\u001b[39m\u001b[38;5;124mJune\u001b[39m\u001b[38;5;124m'\u001b[39m, \n\u001b[1;32m      3\u001b[0m                  \u001b[38;5;124m'\u001b[39m\u001b[38;5;124mJuly\u001b[39m\u001b[38;5;124m'\u001b[39m, \u001b[38;5;124m'\u001b[39m\u001b[38;5;124mAugust\u001b[39m\u001b[38;5;124m'\u001b[39m, \u001b[38;5;124m'\u001b[39m\u001b[38;5;124mSeptember\u001b[39m\u001b[38;5;124m'\u001b[39m, \u001b[38;5;124m'\u001b[39m\u001b[38;5;124mOctober\u001b[39m\u001b[38;5;124m'\u001b[39m, \u001b[38;5;124m'\u001b[39m\u001b[38;5;124mNovember\u001b[39m\u001b[38;5;124m'\u001b[39m, \u001b[38;5;124m'\u001b[39m\u001b[38;5;124mDecember\u001b[39m\u001b[38;5;124m'\u001b[39m]\n\u001b[1;32m      5\u001b[0m \u001b[38;5;66;03m# Trasformiamo la colonna 'mese' in una categoria ordinata\u001b[39;00m\n\u001b[0;32m----> 6\u001b[0m tv_shows_release[\u001b[38;5;124m'\u001b[39m\u001b[38;5;124mmese\u001b[39m\u001b[38;5;124m'\u001b[39m] \u001b[38;5;241m=\u001b[39m pd\u001b[38;5;241m.\u001b[39mCategorical(tv_shows_release[\u001b[38;5;124m'\u001b[39m\u001b[38;5;124mmese\u001b[39m\u001b[38;5;124m'\u001b[39m], categories\u001b[38;5;241m=\u001b[39mmesi_ordinati, ordered\u001b[38;5;241m=\u001b[39m\u001b[38;5;28;01mTrue\u001b[39;00m)\n\u001b[1;32m      8\u001b[0m \u001b[38;5;66;03m# Creiamo una matrice per visualizzare le uscite degli show TV, con i mesi ordinati\u001b[39;00m\n\u001b[1;32m      9\u001b[0m tv_shows_release_matrix \u001b[38;5;241m=\u001b[39m pd\u001b[38;5;241m.\u001b[39mcrosstab(tv_shows_release[\u001b[38;5;124m'\u001b[39m\u001b[38;5;124manno\u001b[39m\u001b[38;5;124m'\u001b[39m], tv_shows_release[\u001b[38;5;124m'\u001b[39m\u001b[38;5;124mmese\u001b[39m\u001b[38;5;124m'\u001b[39m])\n",
      "\u001b[0;31mNameError\u001b[0m: name 'tv_shows_release' is not defined"
     ]
    }
   ],
   "source": [
    "# Lista dei mesi in ordine\n",
    "mesi_ordinati = ['January', 'February', 'March', 'April', 'May', 'June', \n",
    "                 'July', 'August', 'September', 'October', 'November', 'December']\n",
    "\n",
    "# Trasformiamo la colonna 'mese' in una categoria ordinata\n",
    "tv_shows_release['mese'] = pd.Categorical(tv_shows_release['mese'], categories=mesi_ordinati, ordered=True)\n",
    "\n",
    "# Creiamo una matrice per visualizzare le uscite degli show TV, con i mesi ordinati\n",
    "tv_shows_release_matrix = pd.crosstab(tv_shows_release['anno'], tv_shows_release['mese'])\n",
    "\n",
    "# Creiamo il grafico della matrice di rilascio\n",
    "fig = px.imshow(tv_shows_release_matrix, \n",
    "                template=\"plotly_dark\",\n",
    "                text_auto=True,\n",
    "                width=800, height=800, \n",
    "                title='Matrice sulle Date di Rilascio Delle Serie Tv')\n",
    "fig.show()\n",
    "\n",
    "# Più chiaro è il mese, più frequentemente sono stati lanciati i progetti"
   ]
  },
  {
   "cell_type": "code",
   "execution_count": 29,
   "id": "348c752e-ef19-4e53-8f7c-eeb46b8d1644",
   "metadata": {},
   "outputs": [
    {
     "ename": "NameError",
     "evalue": "name 'tv_shows_release' is not defined",
     "output_type": "error",
     "traceback": [
      "\u001b[0;31m---------------------------------------------------------------------------\u001b[0m",
      "\u001b[0;31mNameError\u001b[0m                                 Traceback (most recent call last)",
      "Cell \u001b[0;32mIn[29], line 6\u001b[0m\n\u001b[1;32m      2\u001b[0m mesi_ordinati \u001b[38;5;241m=\u001b[39m [\u001b[38;5;124m'\u001b[39m\u001b[38;5;124mJanuary\u001b[39m\u001b[38;5;124m'\u001b[39m, \u001b[38;5;124m'\u001b[39m\u001b[38;5;124mFebruary\u001b[39m\u001b[38;5;124m'\u001b[39m, \u001b[38;5;124m'\u001b[39m\u001b[38;5;124mMarch\u001b[39m\u001b[38;5;124m'\u001b[39m, \u001b[38;5;124m'\u001b[39m\u001b[38;5;124mApril\u001b[39m\u001b[38;5;124m'\u001b[39m, \u001b[38;5;124m'\u001b[39m\u001b[38;5;124mMay\u001b[39m\u001b[38;5;124m'\u001b[39m, \u001b[38;5;124m'\u001b[39m\u001b[38;5;124mJune\u001b[39m\u001b[38;5;124m'\u001b[39m, \n\u001b[1;32m      3\u001b[0m                  \u001b[38;5;124m'\u001b[39m\u001b[38;5;124mJuly\u001b[39m\u001b[38;5;124m'\u001b[39m, \u001b[38;5;124m'\u001b[39m\u001b[38;5;124mAugust\u001b[39m\u001b[38;5;124m'\u001b[39m, \u001b[38;5;124m'\u001b[39m\u001b[38;5;124mSeptember\u001b[39m\u001b[38;5;124m'\u001b[39m, \u001b[38;5;124m'\u001b[39m\u001b[38;5;124mOctober\u001b[39m\u001b[38;5;124m'\u001b[39m, \u001b[38;5;124m'\u001b[39m\u001b[38;5;124mNovember\u001b[39m\u001b[38;5;124m'\u001b[39m, \u001b[38;5;124m'\u001b[39m\u001b[38;5;124mDecember\u001b[39m\u001b[38;5;124m'\u001b[39m]\n\u001b[1;32m      5\u001b[0m \u001b[38;5;66;03m# Trasformiamo la colonna 'mese' in una categoria ordinata\u001b[39;00m\n\u001b[0;32m----> 6\u001b[0m tv_shows_release[\u001b[38;5;124m'\u001b[39m\u001b[38;5;124mmese\u001b[39m\u001b[38;5;124m'\u001b[39m] \u001b[38;5;241m=\u001b[39m pd\u001b[38;5;241m.\u001b[39mCategorical(tv_shows_release[\u001b[38;5;124m'\u001b[39m\u001b[38;5;124mmese\u001b[39m\u001b[38;5;124m'\u001b[39m], categories\u001b[38;5;241m=\u001b[39mmesi_ordinati, ordered\u001b[38;5;241m=\u001b[39m\u001b[38;5;28;01mTrue\u001b[39;00m)\n\u001b[1;32m      8\u001b[0m \u001b[38;5;66;03m# Creiamo una matrice per visualizzare le uscite degli show TV, con i mesi ordinati\u001b[39;00m\n\u001b[1;32m      9\u001b[0m tv_shows_release_matrix \u001b[38;5;241m=\u001b[39m pd\u001b[38;5;241m.\u001b[39mcrosstab(tv_shows_release[\u001b[38;5;124m'\u001b[39m\u001b[38;5;124manno\u001b[39m\u001b[38;5;124m'\u001b[39m], tv_shows_release[\u001b[38;5;124m'\u001b[39m\u001b[38;5;124mmese\u001b[39m\u001b[38;5;124m'\u001b[39m])\n",
      "\u001b[0;31mNameError\u001b[0m: name 'tv_shows_release' is not defined"
     ]
    }
   ],
   "source": [
    "# Lista dei mesi in ordine\n",
    "mesi_ordinati = ['January', 'February', 'March', 'April', 'May', 'June', \n",
    "                 'July', 'August', 'September', 'October', 'November', 'December']\n",
    "\n",
    "# Trasformiamo la colonna 'mese' in una categoria ordinata\n",
    "tv_shows_release['mese'] = pd.Categorical(tv_shows_release['mese'], categories=mesi_ordinati, ordered=True)\n",
    "\n",
    "# Creiamo una matrice per visualizzare le uscite degli show TV, con i mesi ordinati\n",
    "tv_shows_release_matrix = pd.crosstab(tv_shows_release['anno'], tv_shows_release['mese'])\n",
    "\n",
    "# Creiamo il grafico della matrice di rilascio\n",
    "fig = px.imshow(tv_shows_release_matrix, \n",
    "                template=\"plotly_dark\",\n",
    "                text_auto=True,\n",
    "                width=800, height=800, \n",
    "                title='Matrice sulle Date di Rilascio Delle Serie Tv')\n",
    "fig.show()\n",
    "\n",
    "# Più chiaro è il mese, più frequentemente sono stati lanciati i progetti"
   ]
  },
  {
   "cell_type": "code",
   "execution_count": 23,
   "id": "f4a2446d-83a1-4860-875b-6a8d298ac48a",
   "metadata": {},
   "outputs": [
    {
     "ename": "NameError",
     "evalue": "name 'tv_shows_release_matrix' is not defined",
     "output_type": "error",
     "traceback": [
      "\u001b[0;31m---------------------------------------------------------------------------\u001b[0m",
      "\u001b[0;31mNameError\u001b[0m                                 Traceback (most recent call last)",
      "Cell \u001b[0;32mIn[23], line 1\u001b[0m\n\u001b[0;32m----> 1\u001b[0m fig \u001b[38;5;241m=\u001b[39m px\u001b[38;5;241m.\u001b[39mimshow(tv_shows_release_matrix, \n\u001b[1;32m      2\u001b[0m                 template\u001b[38;5;241m=\u001b[39m \u001b[38;5;124m\"\u001b[39m\u001b[38;5;124mplotly_dark\u001b[39m\u001b[38;5;124m\"\u001b[39m,\n\u001b[1;32m      3\u001b[0m                 text_auto\u001b[38;5;241m=\u001b[39m\u001b[38;5;28;01mTrue\u001b[39;00m,\n\u001b[1;32m      4\u001b[0m                 width \u001b[38;5;241m=\u001b[39m \u001b[38;5;241m800\u001b[39m, height \u001b[38;5;241m=\u001b[39m \u001b[38;5;241m800\u001b[39m, \n\u001b[1;32m      5\u001b[0m                 title \u001b[38;5;241m=\u001b[39m \u001b[38;5;124m'\u001b[39m\u001b[38;5;124mRelease matrix\u001b[39m\u001b[38;5;124m'\u001b[39m)\n\u001b[1;32m      6\u001b[0m fig\u001b[38;5;241m.\u001b[39mshow()\n",
      "\u001b[0;31mNameError\u001b[0m: name 'tv_shows_release_matrix' is not defined"
     ]
    }
   ],
   "source": [
    "fig = px.imshow(tv_shows_release_matrix, \n",
    "                template= \"plotly_dark\",\n",
    "                text_auto=True,\n",
    "                width = 800, height = 800, \n",
    "                title = 'Release matrix')\n",
    "fig.show()"
   ]
  },
  {
   "cell_type": "markdown",
   "id": "866681f6-b338-482e-9db3-09c1101b37f4",
   "metadata": {},
   "source": [
    "# Predizioni"
   ]
  },
  {
   "cell_type": "markdown",
   "id": "7a1381ac-b2db-4d3f-8ee1-0bb9b59f5784",
   "metadata": {},
   "source": [
    "## Predizione della Popolarità dei Generi"
   ]
  },
  {
   "cell_type": "code",
   "execution_count": 62,
   "id": "f8a53113-6293-4346-adee-abd1ebec177b",
   "metadata": {},
   "outputs": [
    {
     "name": "stdout",
     "output_type": "stream",
     "text": [
      "Accuracy: 0.141316685584563\n",
      "              precision    recall  f1-score   support\n",
      "\n",
      "        1925       0.00      0.00      0.00         1\n",
      "        1942       0.00      0.00      0.00         1\n",
      "        1943       0.00      0.00      0.00         2\n",
      "        1946       0.00      0.00      0.00         0\n",
      "        1954       0.00      0.00      0.00         2\n",
      "        1958       0.00      0.00      0.00         0\n",
      "        1960       0.00      0.00      0.00         2\n",
      "        1961       0.00      0.00      0.00         1\n",
      "        1962       0.00      0.00      0.00         1\n",
      "        1963       0.00      0.00      0.00         2\n",
      "        1967       0.00      0.00      0.00         3\n",
      "        1969       0.00      0.00      0.00         1\n",
      "        1971       0.00      0.00      0.00         1\n",
      "        1973       0.00      0.00      0.00         2\n",
      "        1974       0.00      0.00      0.00         2\n",
      "        1975       0.00      0.00      0.00         4\n",
      "        1976       0.00      0.00      0.00         3\n",
      "        1977       0.00      0.00      0.00         2\n",
      "        1978       0.00      0.00      0.00         1\n",
      "        1979       0.00      0.00      0.00         2\n",
      "        1980       0.00      0.00      0.00         1\n",
      "        1981       0.00      0.00      0.00         2\n",
      "        1982       0.00      0.00      0.00         6\n",
      "        1983       0.00      0.00      0.00         1\n",
      "        1984       0.00      0.00      0.00         3\n",
      "        1985       0.00      0.00      0.00         3\n",
      "        1986       0.00      0.00      0.00         3\n",
      "        1987       0.00      0.00      0.00         1\n",
      "        1988       0.00      0.00      0.00         2\n",
      "        1989       0.00      0.00      0.00         5\n",
      "        1990       0.00      0.00      0.00         3\n",
      "        1991       0.00      0.00      0.00         3\n",
      "        1992       0.00      0.00      0.00         6\n",
      "        1993       0.00      0.00      0.00         4\n",
      "        1994       0.00      0.00      0.00         3\n",
      "        1995       0.00      0.00      0.00         5\n",
      "        1996       0.00      0.00      0.00         9\n",
      "        1997       0.00      0.00      0.00         9\n",
      "        1998       0.00      0.00      0.00         7\n",
      "        1999       0.00      0.00      0.00         4\n",
      "        2000       0.00      0.00      0.00         6\n",
      "        2001       0.00      0.00      0.00         5\n",
      "        2002       0.00      0.00      0.00         5\n",
      "        2003       0.10      0.06      0.08        16\n",
      "        2004       0.00      0.00      0.00        17\n",
      "        2005       0.00      0.00      0.00        14\n",
      "        2006       0.00      0.00      0.00        26\n",
      "        2007       0.00      0.00      0.00        17\n",
      "        2008       0.00      0.00      0.00        24\n",
      "        2009       0.00      0.00      0.00        33\n",
      "        2010       0.07      0.05      0.06        42\n",
      "        2011       0.06      0.05      0.06        39\n",
      "        2012       0.07      0.06      0.06        51\n",
      "        2013       0.02      0.02      0.02        59\n",
      "        2014       0.09      0.07      0.08        69\n",
      "        2015       0.10      0.11      0.11       101\n",
      "        2016       0.21      0.24      0.22       194\n",
      "        2017       0.13      0.12      0.12       202\n",
      "        2018       0.19      0.25      0.22       211\n",
      "        2019       0.14      0.19      0.16       189\n",
      "        2020       0.19      0.20      0.19       193\n",
      "        2021       0.27      0.21      0.23       136\n",
      "\n",
      "    accuracy                           0.14      1762\n",
      "   macro avg       0.03      0.03      0.03      1762\n",
      "weighted avg       0.13      0.14      0.14      1762\n",
      "\n"
     ]
    },
    {
     "name": "stderr",
     "output_type": "stream",
     "text": [
      "/opt/conda/envs/anaconda-panel-2023.05-py310/lib/python3.11/site-packages/sklearn/metrics/_classification.py:1469: UndefinedMetricWarning:\n",
      "\n",
      "Precision and F-score are ill-defined and being set to 0.0 in labels with no predicted samples. Use `zero_division` parameter to control this behavior.\n",
      "\n",
      "/opt/conda/envs/anaconda-panel-2023.05-py310/lib/python3.11/site-packages/sklearn/metrics/_classification.py:1469: UndefinedMetricWarning:\n",
      "\n",
      "Recall and F-score are ill-defined and being set to 0.0 in labels with no true samples. Use `zero_division` parameter to control this behavior.\n",
      "\n",
      "/opt/conda/envs/anaconda-panel-2023.05-py310/lib/python3.11/site-packages/sklearn/metrics/_classification.py:1469: UndefinedMetricWarning:\n",
      "\n",
      "Precision and F-score are ill-defined and being set to 0.0 in labels with no predicted samples. Use `zero_division` parameter to control this behavior.\n",
      "\n",
      "/opt/conda/envs/anaconda-panel-2023.05-py310/lib/python3.11/site-packages/sklearn/metrics/_classification.py:1469: UndefinedMetricWarning:\n",
      "\n",
      "Recall and F-score are ill-defined and being set to 0.0 in labels with no true samples. Use `zero_division` parameter to control this behavior.\n",
      "\n",
      "/opt/conda/envs/anaconda-panel-2023.05-py310/lib/python3.11/site-packages/sklearn/metrics/_classification.py:1469: UndefinedMetricWarning:\n",
      "\n",
      "Precision and F-score are ill-defined and being set to 0.0 in labels with no predicted samples. Use `zero_division` parameter to control this behavior.\n",
      "\n",
      "/opt/conda/envs/anaconda-panel-2023.05-py310/lib/python3.11/site-packages/sklearn/metrics/_classification.py:1469: UndefinedMetricWarning:\n",
      "\n",
      "Recall and F-score are ill-defined and being set to 0.0 in labels with no true samples. Use `zero_division` parameter to control this behavior.\n",
      "\n"
     ]
    }
   ],
   "source": [
    "from sklearn.model_selection import train_test_split\n",
    "from sklearn.ensemble import RandomForestClassifier\n",
    "from sklearn.metrics import accuracy_score, classification_report\n",
    "\n",
    "# Preparazione dei dati per il modello di machine learning\n",
    "df_ml = df.copy()\n",
    "\n",
    "# Creazione di nuove feature basate sui dati esistenti\n",
    "df_ml['title_length'] = df_ml['title'].apply(len)\n",
    "df_ml['description_length'] = df_ml['description'].apply(len)\n",
    "df_ml['num_cast'] = df_ml['cast'].apply(lambda x: len(x.split(',')))\n",
    "\n",
    "# Codifica delle feature categoriche\n",
    "df_ml = pd.get_dummies(df_ml, columns=['type', 'rating', 'country'])\n",
    "\n",
    "# Rimozione delle colonne non necessarie\n",
    "df_ml.drop(['show_id', 'title', 'director', 'cast', 'date_added', 'listed_in', 'description', 'genre_list', 'duration'], axis=1, inplace=True)\n",
    "\n",
    "# Creazione dei dati di addestramento e test\n",
    "X = df_ml.drop('release_year', axis=1)\n",
    "y = df_ml['release_year']\n",
    "X_train, X_test, y_train, y_test = train_test_split(X, y, test_size=0.2, random_state=42)\n",
    "\n",
    "# Creazione e addestramento del modello\n",
    "model = RandomForestClassifier(n_estimators=100, random_state=42)\n",
    "model.fit(X_train, y_train)\n",
    "\n",
    "# Predizioni sui dati di test\n",
    "y_pred = model.predict(X_test)\n",
    "\n",
    "# Valutazione del modello\n",
    "print(f\"Accuracy: {accuracy_score(y_test, y_pred)}\")\n",
    "print(classification_report(y_test, y_pred))"
   ]
  },
  {
   "cell_type": "code",
   "execution_count": null,
   "id": "2fbd6158-fcf2-431c-b09b-61afbe5f1bff",
   "metadata": {},
   "outputs": [],
   "source": []
  },
  {
   "cell_type": "code",
   "execution_count": null,
   "id": "0ccce8ef-c2f3-45e8-9a27-c74c7cbea027",
   "metadata": {},
   "outputs": [],
   "source": []
  },
  {
   "cell_type": "code",
   "execution_count": null,
   "id": "040d26f2-b0eb-415b-8494-70ba0f708207",
   "metadata": {},
   "outputs": [],
   "source": []
  }
 ],
 "metadata": {
  "kernelspec": {
   "display_name": "anaconda-panel-2023.05-py310",
   "language": "python",
   "name": "conda-env-anaconda-panel-2023.05-py310-py"
  },
  "language_info": {
   "codemirror_mode": {
    "name": "ipython",
    "version": 3
   },
   "file_extension": ".py",
   "mimetype": "text/x-python",
   "name": "python",
   "nbconvert_exporter": "python",
   "pygments_lexer": "ipython3",
   "version": "3.11.5"
  }
 },
 "nbformat": 4,
 "nbformat_minor": 5
}
